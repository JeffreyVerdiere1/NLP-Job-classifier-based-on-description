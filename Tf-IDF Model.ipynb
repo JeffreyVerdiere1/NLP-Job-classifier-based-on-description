{
 "cells": [
  {
   "cell_type": "markdown",
   "id": "75116742",
   "metadata": {},
   "source": [
    "https://www.analyticsvidhya.com/blog/2021/09/creating-a-movie-reviews-classifier-using-tf-idf-in-python/"
   ]
  },
  {
   "cell_type": "markdown",
   "id": "8481413f",
   "metadata": {},
   "source": [
    "# TF-IDF Model for classification"
   ]
  },
  {
   "cell_type": "code",
   "execution_count": 1,
   "id": "2e5f74fa",
   "metadata": {},
   "outputs": [],
   "source": [
    "import pandas as pd\n",
    "import numpy as np \n",
    "from sklearn.feature_extraction.text import TfidfVectorizer\n",
    "from sklearn.naive_bayes import MultinomialNB\n",
    "from sklearn import metrics\n",
    "import nltk\n",
    "import re\n",
    "import string\n",
    "import spacy"
   ]
  },
  {
   "cell_type": "code",
   "execution_count": 2,
   "id": "221dee62",
   "metadata": {},
   "outputs": [],
   "source": [
    "df_train = pd.read_csv('train_dataset.csv')\n",
    "df_val = pd.read_csv('val_dataset.csv')"
   ]
  },
  {
   "cell_type": "code",
   "execution_count": 3,
   "id": "3959755d",
   "metadata": {},
   "outputs": [
    {
     "data": {
      "text/html": [
       "<div>\n",
       "<style scoped>\n",
       "    .dataframe tbody tr th:only-of-type {\n",
       "        vertical-align: middle;\n",
       "    }\n",
       "\n",
       "    .dataframe tbody tr th {\n",
       "        vertical-align: top;\n",
       "    }\n",
       "\n",
       "    .dataframe thead th {\n",
       "        text-align: right;\n",
       "    }\n",
       "</style>\n",
       "<table border=\"1\" class=\"dataframe\">\n",
       "  <thead>\n",
       "    <tr style=\"text-align: right;\">\n",
       "      <th></th>\n",
       "      <th>textual description</th>\n",
       "      <th>code_rome</th>\n",
       "      <th>categorie</th>\n",
       "      <th>sub_categorie</th>\n",
       "      <th>sub_sub_categorie</th>\n",
       "      <th>name</th>\n",
       "      <th>text_length</th>\n",
       "    </tr>\n",
       "  </thead>\n",
       "  <tbody>\n",
       "    <tr>\n",
       "      <th>0</th>\n",
       "      <td>Nous recherchons pour le compte de notre clien...</td>\n",
       "      <td>I1305</td>\n",
       "      <td>I</td>\n",
       "      <td>13</td>\n",
       "      <td>5</td>\n",
       "      <td>Installation et maintenance électronique</td>\n",
       "      <td>304</td>\n",
       "    </tr>\n",
       "  </tbody>\n",
       "</table>\n",
       "</div>"
      ],
      "text/plain": [
       "                                 textual description code_rome categorie  \\\n",
       "0  Nous recherchons pour le compte de notre clien...     I1305         I   \n",
       "\n",
       "   sub_categorie  sub_sub_categorie                                      name  \\\n",
       "0             13                  5  Installation et maintenance électronique   \n",
       "\n",
       "   text_length  \n",
       "0          304  "
      ]
     },
     "execution_count": 3,
     "metadata": {},
     "output_type": "execute_result"
    }
   ],
   "source": [
    "df_train.head(1)"
   ]
  },
  {
   "cell_type": "code",
   "execution_count": 4,
   "id": "4762fa83",
   "metadata": {},
   "outputs": [],
   "source": [
    "train_X_raw = df_train['textual description']   # '0' refers to the review text\n",
    "train_y = df_train['categorie']   # '1' corresponds to Label (1 - positive and 0 - negative)\n",
    "val_X_raw = df_val['textual description']\n",
    "val_y = df_val['categorie']\n",
    "train_X=[]\n",
    "test_X=[]"
   ]
  },
  {
   "cell_type": "markdown",
   "id": "93b765ec",
   "metadata": {},
   "source": [
    "**Preprocessing du texte**"
   ]
  },
  {
   "cell_type": "code",
   "execution_count": 5,
   "id": "22db78bb",
   "metadata": {},
   "outputs": [],
   "source": [
    "stopwords = nltk.corpus.stopwords.words('french')\n",
    "nlp = spacy.load(\"fr_core_news_sm\")"
   ]
  },
  {
   "cell_type": "code",
   "execution_count": 6,
   "id": "7bef51bf",
   "metadata": {},
   "outputs": [],
   "source": [
    "def preprocessing(text):\n",
    "    text = text.lower()\n",
    "    text = text.replace('(', ' ').replace(')', ' ').replace('.', ' ').replace('  ', ' ')  #drop '(', ')', '.'\n",
    "    text = nlp(text)\n",
    "    #words = [token.text for token in sent for sent in doc.sents if not token.text in set(stopwords)]\n",
    "    words = [token.lemma_ for sent in text.sents for token in sent if not token.text in set(stopwords)]\n",
    "    string = ' '.join(words)\n",
    "    return string"
   ]
  },
  {
   "cell_type": "markdown",
   "id": "63f0a7b2",
   "metadata": {},
   "source": [
    "**Raw text :**"
   ]
  },
  {
   "cell_type": "code",
   "execution_count": 7,
   "id": "4c0a0715",
   "metadata": {},
   "outputs": [
    {
     "data": {
      "text/plain": [
       "\"Nous recherchons pour le compte de notre client basé à Crepy en Valois un(e) Electromecanicien.les tâches sont:Suivi de la disponibilité du matériel nettoyage, réparations des éléments défectueux Rédaction des fiches techniques d'intervention Participation à l'amélioration des procédures de maintenance \""
      ]
     },
     "execution_count": 7,
     "metadata": {},
     "output_type": "execute_result"
    }
   ],
   "source": [
    "df_train.iloc[0]['textual description']"
   ]
  },
  {
   "cell_type": "markdown",
   "id": "4db35928",
   "metadata": {},
   "source": [
    "**Preprocessed text :**"
   ]
  },
  {
   "cell_type": "code",
   "execution_count": 8,
   "id": "1a00bfe0",
   "metadata": {
    "scrolled": true
   },
   "outputs": [
    {
     "data": {
      "text/plain": [
       "'rechercher compte client baser crepy valoi e electromecanicien tâche : suivre disponibilité matériel nettoyage , réparation élément défectueux rédaction fiche technique de intervention participation le amélioration procédure maintenance'"
      ]
     },
     "execution_count": 8,
     "metadata": {},
     "output_type": "execute_result"
    }
   ],
   "source": [
    "preprocessing(df_train.iloc[0]['textual description'])"
   ]
  },
  {
   "cell_type": "code",
   "execution_count": 9,
   "id": "3331586e",
   "metadata": {},
   "outputs": [],
   "source": [
    "df_train['textual description'] = df_train['textual description'].apply(preprocessing)\n"
   ]
  },
  {
   "cell_type": "code",
   "execution_count": 12,
   "id": "0813c5e7",
   "metadata": {},
   "outputs": [
    {
     "data": {
      "text/plain": [
       "'rechercher compte client , conducteur de installation ligne automatiséerattacher directeur le usine , assurer tant conducteur de installation tâche suivant : prendre connaissance programme fabrication consigne début poste afin de organiser travail préparation matériel , personne mobiliser    fonction événement journée changemer fabrication , arrêt programmer ,    identifier éventuel aléa production repérer objectif qualitatif quantitatif production typ produit , tonnage , quantiter ,    effectuer maintenance poste travail , maintenance préventif corrective appliquer règle norme qualité vigueur le entreprise nf , qualité , marquage    appliquer règle consigne sécurité relatif site production poste travail ainsi règle environnemental gestion déchet , fluide , gaz etc    travailler pupitre ihm interface homme pupitre'"
      ]
     },
     "execution_count": 12,
     "metadata": {},
     "output_type": "execute_result"
    }
   ],
   "source": [
    "df_train.iloc[1000]['textual description']"
   ]
  },
  {
   "cell_type": "code",
   "execution_count": null,
   "id": "10cb183a",
   "metadata": {},
   "outputs": [],
   "source": [
    "from nltk.tokenize import sent_tokenize"
   ]
  },
  {
   "cell_type": "code",
   "execution_count": null,
   "id": "ccca1e9f",
   "metadata": {},
   "outputs": [],
   "source": [
    "[toknizer.tokenize(sent) for sent in sent_tokenize(test)]"
   ]
  }
 ],
 "metadata": {
  "kernelspec": {
   "display_name": "Python 3",
   "language": "python",
   "name": "python3"
  },
  "language_info": {
   "codemirror_mode": {
    "name": "ipython",
    "version": 3
   },
   "file_extension": ".py",
   "mimetype": "text/x-python",
   "name": "python",
   "nbconvert_exporter": "python",
   "pygments_lexer": "ipython3",
   "version": "3.8.8"
  }
 },
 "nbformat": 4,
 "nbformat_minor": 5
}
