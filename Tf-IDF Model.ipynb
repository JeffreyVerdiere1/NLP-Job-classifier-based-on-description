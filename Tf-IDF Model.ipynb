{
 "cells": [
  {
   "cell_type": "markdown",
   "id": "e98fca93",
   "metadata": {},
   "source": [
    "https://www.analyticsvidhya.com/blog/2021/09/creating-a-movie-reviews-classifier-using-tf-idf-in-python/"
   ]
  },
  {
   "cell_type": "markdown",
   "id": "9d54a956",
   "metadata": {},
   "source": [
    "# TF-IDF Model for classification"
   ]
  },
  {
   "cell_type": "code",
   "execution_count": 1,
   "id": "eeef8a65",
   "metadata": {},
   "outputs": [],
   "source": [
    "import pandas as pd\n",
    "import numpy as np \n",
    "from sklearn.feature_extraction.text import TfidfVectorizer\n",
    "from sklearn.naive_bayes import MultinomialNB\n",
    "from sklearn import metrics\n",
    "import nltk\n",
    "import re\n",
    "import string\n",
    "import spacy"
   ]
  },
  {
   "cell_type": "code",
   "execution_count": 2,
   "id": "ea67d297",
   "metadata": {},
   "outputs": [],
   "source": [
    "df_train = pd.read_csv('train_dataset.csv')\n",
    "df_val = pd.read_csv('val_dataset.csv')"
   ]
  },
  {
   "cell_type": "code",
   "execution_count": 3,
   "id": "e2cb5a5f",
   "metadata": {},
   "outputs": [
    {
     "data": {
      "text/html": [
       "<div>\n",
       "<style scoped>\n",
       "    .dataframe tbody tr th:only-of-type {\n",
       "        vertical-align: middle;\n",
       "    }\n",
       "\n",
       "    .dataframe tbody tr th {\n",
       "        vertical-align: top;\n",
       "    }\n",
       "\n",
       "    .dataframe thead th {\n",
       "        text-align: right;\n",
       "    }\n",
       "</style>\n",
       "<table border=\"1\" class=\"dataframe\">\n",
       "  <thead>\n",
       "    <tr style=\"text-align: right;\">\n",
       "      <th></th>\n",
       "      <th>textual description</th>\n",
       "      <th>code_rome</th>\n",
       "      <th>categorie</th>\n",
       "      <th>sub_categorie</th>\n",
       "      <th>sub_sub_categorie</th>\n",
       "      <th>name</th>\n",
       "      <th>text_length</th>\n",
       "    </tr>\n",
       "  </thead>\n",
       "  <tbody>\n",
       "    <tr>\n",
       "      <th>0</th>\n",
       "      <td>Nous recherchons pour le compte de notre clien...</td>\n",
       "      <td>I1305</td>\n",
       "      <td>I</td>\n",
       "      <td>13</td>\n",
       "      <td>5</td>\n",
       "      <td>Installation et maintenance électronique</td>\n",
       "      <td>304</td>\n",
       "    </tr>\n",
       "  </tbody>\n",
       "</table>\n",
       "</div>"
      ],
      "text/plain": [
       "                                 textual description code_rome categorie  \\\n",
       "0  Nous recherchons pour le compte de notre clien...     I1305         I   \n",
       "\n",
       "   sub_categorie  sub_sub_categorie                                      name  \\\n",
       "0             13                  5  Installation et maintenance électronique   \n",
       "\n",
       "   text_length  \n",
       "0          304  "
      ]
     },
     "execution_count": 3,
     "metadata": {},
     "output_type": "execute_result"
    }
   ],
   "source": [
    "df_train.head(1)"
   ]
  },
  {
   "cell_type": "markdown",
   "id": "a97b7ca3",
   "metadata": {},
   "source": [
    "**Preprocessing du texte**"
   ]
  },
  {
   "cell_type": "code",
   "execution_count": 5,
   "id": "a0da076d",
   "metadata": {},
   "outputs": [],
   "source": [
    "stopwords = nltk.corpus.stopwords.words('french')\n",
    "nlp = spacy.load(\"fr_core_news_sm\")"
   ]
  },
  {
   "cell_type": "code",
   "execution_count": 6,
   "id": "c83c7e43",
   "metadata": {},
   "outputs": [],
   "source": [
    "def preprocessing(text):\n",
    "    text = text.lower()\n",
    "    text = text.replace('(', ' ').replace(')', ' ').replace('.', ' ').replace('  ', ' ')  #drop '(', ')', '.'\n",
    "    text = nlp(text)\n",
    "    #words = [token.text for token in sent for sent in doc.sents if not token.text in set(stopwords)]\n",
    "    words = [token.lemma_ for sent in text.sents for token in sent if not token.text in set(stopwords)]\n",
    "    string = ' '.join(words)\n",
    "    return string"
   ]
  },
  {
   "cell_type": "markdown",
   "id": "72820e60",
   "metadata": {},
   "source": [
    "**Raw text :**"
   ]
  },
  {
   "cell_type": "code",
   "execution_count": 7,
   "id": "daa306e8",
   "metadata": {},
   "outputs": [
    {
     "data": {
      "text/plain": [
       "\"Nous recherchons pour le compte de notre client basé à Crepy en Valois un(e) Electromecanicien.les tâches sont:Suivi de la disponibilité du matériel nettoyage, réparations des éléments défectueux Rédaction des fiches techniques d'intervention Participation à l'amélioration des procédures de maintenance \""
      ]
     },
     "execution_count": 7,
     "metadata": {},
     "output_type": "execute_result"
    }
   ],
   "source": [
    "df_train.iloc[0]['textual description']"
   ]
  },
  {
   "cell_type": "markdown",
   "id": "14d92fcb",
   "metadata": {},
   "source": [
    "**Preprocessed text :**"
   ]
  },
  {
   "cell_type": "code",
   "execution_count": 8,
   "id": "603da2b3",
   "metadata": {
    "scrolled": true
   },
   "outputs": [
    {
     "data": {
      "text/plain": [
       "'rechercher compte client baser crepy valoi e electromecanicien tâche : suivre disponibilité matériel nettoyage , réparation élément défectueux rédaction fiche technique de intervention participation le amélioration procédure maintenance'"
      ]
     },
     "execution_count": 8,
     "metadata": {},
     "output_type": "execute_result"
    }
   ],
   "source": [
    "preprocessing(df_train.iloc[0]['textual description'])"
   ]
  },
  {
   "cell_type": "code",
   "execution_count": 9,
   "id": "fcf0dbc0",
   "metadata": {},
   "outputs": [],
   "source": [
    "df_train['textual description'] = df_train['textual description'].apply(preprocessing)\n"
   ]
  },
  {
   "cell_type": "code",
   "execution_count": 12,
   "id": "b92270c1",
   "metadata": {},
   "outputs": [
    {
     "data": {
      "text/plain": [
       "'rechercher compte client , conducteur de installation ligne automatiséerattacher directeur le usine , assurer tant conducteur de installation tâche suivant : prendre connaissance programme fabrication consigne début poste afin de organiser travail préparation matériel , personne mobiliser    fonction événement journée changemer fabrication , arrêt programmer ,    identifier éventuel aléa production repérer objectif qualitatif quantitatif production typ produit , tonnage , quantiter ,    effectuer maintenance poste travail , maintenance préventif corrective appliquer règle norme qualité vigueur le entreprise nf , qualité , marquage    appliquer règle consigne sécurité relatif site production poste travail ainsi règle environnemental gestion déchet , fluide , gaz etc    travailler pupitre ihm interface homme pupitre'"
      ]
     },
     "execution_count": 12,
     "metadata": {},
     "output_type": "execute_result"
    }
   ],
   "source": [
    "df_train['textual description'] = df_train['textual description'].apply(preprocessing)"
   ]
  },
  {
   "cell_type": "code",
   "execution_count": 13,
   "id": "a9fee287",
   "metadata": {},
   "outputs": [],
   "source": [
    "df_val['textual description'] = df_val['textual description'].apply(preprocessing)"
   ]
  },
  {
   "cell_type": "code",
   "execution_count": 16,
   "id": "af37b1f0",
   "metadata": {},
   "outputs": [],
   "source": [
    "train_X = df_train['textual description']   # '0' refers to the review text\n",
    "train_y = df_train['categorie']   # '1' corresponds to Label (1 - positive and 0 - negative)\n",
    "val_X = df_val['textual description']\n",
    "val_y = df_val['categorie']"
   ]
  },
  {
   "cell_type": "markdown",
   "id": "006d8044",
   "metadata": {},
   "source": [
    "**Vectorization**"
   ]
  },
  {
   "cell_type": "code",
   "execution_count": 17,
   "id": "9b696b72",
   "metadata": {},
   "outputs": [],
   "source": [
    "#tf idf\n",
    "tf_idf = TfidfVectorizer()\n",
    "#applying tf idf to training data\n",
    "X_train_vect = tf_idf.fit_transform(train_X)\n",
    "#applying tf idf to training data\n",
    "X_train_vect = tf_idf.transform(train_X)"
   ]
  },
  {
   "cell_type": "code",
   "execution_count": 18,
   "id": "a1e3acbe",
   "metadata": {},
   "outputs": [
    {
     "name": "stdout",
     "output_type": "stream",
     "text": [
      "n_samples: 38640, n_features: 96238\n"
     ]
    }
   ],
   "source": [
    "print(\"n_samples: %d, n_features: %d\" % X_train_vect.shape)"
   ]
  },
  {
   "cell_type": "markdown",
   "id": "13f3b69f",
   "metadata": {},
   "source": [
    "**We fit the transformer on the train dataset and use this transformer to estimate the validation dataset (whitou fitting)**"
   ]
  },
  {
   "cell_type": "code",
   "execution_count": 19,
   "id": "04322042",
   "metadata": {},
   "outputs": [],
   "source": [
    "#transforming test data into tf-idf matrix\n",
    "X_val_vect = tf_idf.transform(val_X)"
   ]
  },
  {
   "cell_type": "code",
   "execution_count": 20,
   "id": "4e3ed854",
   "metadata": {},
   "outputs": [
    {
     "name": "stdout",
     "output_type": "stream",
     "text": [
      "n_samples: 12881, n_features: 96238\n"
     ]
    }
   ],
   "source": [
    "print(\"n_samples: %d, n_features: %d\" % X_val_vect.shape)"
   ]
  },
  {
   "cell_type": "markdown",
   "id": "29668ffc",
   "metadata": {},
   "source": [
    "**Prediction with a naive Bayes Classifier using the transformer**"
   ]
  },
  {
   "cell_type": "code",
   "execution_count": 21,
   "id": "bde5cb6b",
   "metadata": {},
   "outputs": [
    {
     "data": {
      "text/plain": [
       "MultinomialNB()"
      ]
     },
     "execution_count": 21,
     "metadata": {},
     "output_type": "execute_result"
    }
   ],
   "source": [
    "naive_bayes_classifier = MultinomialNB()\n",
    "naive_bayes_classifier.fit(X_train_vect, train_y)"
   ]
  },
  {
   "cell_type": "code",
   "execution_count": 23,
   "id": "20b4183f",
   "metadata": {},
   "outputs": [
    {
     "name": "stdout",
     "output_type": "stream",
     "text": [
      "              precision    recall  f1-score   support\n",
      "\n",
      "           I       0.97      0.18      0.30       680\n",
      "           N       0.00      0.00      0.00       185\n",
      "           K       0.97      0.12      0.22       619\n",
      "           G       0.82      0.49      0.62      1046\n",
      "           H       1.00      0.05      0.09       489\n",
      "           A       0.93      0.31      0.46      1054\n",
      "           M       0.87      0.33      0.48       863\n",
      "           L       0.33      0.96      0.50      2324\n",
      "           D       0.97      0.07      0.13       810\n",
      "           B       0.94      0.51      0.66       910\n",
      "           F       0.47      0.74      0.58      1718\n",
      "           E       1.00      0.09      0.16       198\n",
      "           J       0.50      0.51      0.50      1257\n",
      "           C       0.97      0.08      0.15       728\n",
      "\n",
      "    accuracy                           0.47     12881\n",
      "   macro avg       0.77      0.32      0.35     12881\n",
      "weighted avg       0.71      0.47      0.43     12881\n",
      "\n"
     ]
    },
    {
     "name": "stderr",
     "output_type": "stream",
     "text": [
      "D:\\Logiciel\\Anaconda\\lib\\site-packages\\sklearn\\metrics\\_classification.py:1245: UndefinedMetricWarning: Precision and F-score are ill-defined and being set to 0.0 in labels with no predicted samples. Use `zero_division` parameter to control this behavior.\n",
      "  _warn_prf(average, modifier, msg_start, len(result))\n",
      "D:\\Logiciel\\Anaconda\\lib\\site-packages\\sklearn\\metrics\\_classification.py:1245: UndefinedMetricWarning: Precision and F-score are ill-defined and being set to 0.0 in labels with no predicted samples. Use `zero_division` parameter to control this behavior.\n",
      "  _warn_prf(average, modifier, msg_start, len(result))\n",
      "D:\\Logiciel\\Anaconda\\lib\\site-packages\\sklearn\\metrics\\_classification.py:1245: UndefinedMetricWarning: Precision and F-score are ill-defined and being set to 0.0 in labels with no predicted samples. Use `zero_division` parameter to control this behavior.\n",
      "  _warn_prf(average, modifier, msg_start, len(result))\n"
     ]
    }
   ],
   "source": [
    "y_pred = naive_bayes_classifier.predict(X_val_vect)\n",
    "print(metrics.classification_report(val_y, y_pred, target_names=list(df_train[\"categorie\"].unique())))"
   ]
  },
  {
   "cell_type": "code",
   "execution_count": 42,
   "id": "b69500ea",
   "metadata": {},
   "outputs": [],
   "source": [
    "import matplotlib.pyplot as plt\n",
    "from sklearn.metrics import confusion_matrix, ConfusionMatrixDisplay"
   ]
  },
  {
   "cell_type": "code",
   "execution_count": 49,
   "id": "fd6f3499",
   "metadata": {},
   "outputs": [
    {
     "data": {
      "image/png": "[encoded data removed]",
      "text/plain": [
       "<Figure size 720x720 with 2 Axes>"
      ]
     },
     "metadata": {
      "needs_background": "light"
     },
     "output_type": "display_data"
    }
   ],
   "source": [
    "cm = confusion_matrix(val_y, y_pred)\n",
    "\n",
    "cmd_obj = ConfusionMatrixDisplay(cm, display_labels=list(df_val.sort_values(\"categorie\")[\"categorie\"].unique()))\n",
    "cmd_obj.plot()\n",
    "cmd_obj.ax_.set(title='Confusion Matrix', \n",
    "                xlabel='Predicted Job Categorie', \n",
    "                ylabel='Actual Job Categorie',)\n",
    "\n",
    "plt.rcParams[\"figure.figsize\"] = (5,5)\n",
    "plt.show()"
   ]
  },
  {
   "cell_type": "code",
   "execution_count": null,
   "id": "ed456374",
   "metadata": {},
   "outputs": [],
   "source": []
  }
 ],
 "metadata": {
  "kernelspec": {
   "display_name": "Python 3",
   "language": "python",
   "name": "python3"
  },
  "language_info": {
   "codemirror_mode": {
    "name": "ipython",
    "version": 3
   },
   "file_extension": ".py",
   "mimetype": "text/x-python",
   "name": "python",
   "nbconvert_exporter": "python",
   "pygments_lexer": "ipython3",
   "version": "3.8.8"
  }
 },
 "nbformat": 4,
 "nbformat_minor": 5
}
