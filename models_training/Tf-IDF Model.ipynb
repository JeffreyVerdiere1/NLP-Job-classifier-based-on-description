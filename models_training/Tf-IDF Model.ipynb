{
 "cells": [
  {
   "cell_type": "markdown",
   "id": "9d54a956",
   "metadata": {
    "id": "9d54a956"
   },
   "source": [
    "# TF-IDF Model for classification"
   ]
  },
  {
   "cell_type": "markdown",
   "id": "e98fca93",
   "metadata": {
    "id": "e98fca93"
   },
   "source": [
    "https://www.analyticsvidhya.com/blog/2021/09/creating-a-movie-reviews-classifier-using-tf-idf-in-python/"
   ]
  },
  {
   "cell_type": "markdown",
   "id": "lcyxbPQBwiXF",
   "metadata": {
    "id": "lcyxbPQBwiXF"
   },
   "source": [
    "**Downloading useful tools**"
   ]
  },
  {
   "cell_type": "code",
   "execution_count": 1,
   "id": "isqBmkxuvQ1-",
   "metadata": {
    "executionInfo": {
     "elapsed": 386,
     "status": "ok",
     "timestamp": 1648978254173,
     "user": {
      "displayName": "Oscar Fossey",
      "userId": "10790742002274273934"
     },
     "user_tz": -120
    },
    "id": "isqBmkxuvQ1-",
    "scrolled": true
   },
   "outputs": [],
   "source": [
    "#pip install datasets"
   ]
  },
  {
   "cell_type": "code",
   "execution_count": 2,
   "id": "2dd272c1",
   "metadata": {},
   "outputs": [
    {
     "name": "stdout",
     "output_type": "stream",
     "text": [
      "Requirement already satisfied: imblearn in c:\\users\\admin\\appdata\\roaming\\python\\python38\\site-packages (0.0)\n",
      "Requirement already satisfied: imbalanced-learn in c:\\users\\admin\\appdata\\roaming\\python\\python38\\site-packages (from imblearn) (0.9.0)\n",
      "Requirement already satisfied: scikit-learn>=1.0.1 in d:\\logiciel\\anaconda\\lib\\site-packages (from imbalanced-learn->imblearn) (1.0.2)\n",
      "Requirement already satisfied: scipy>=1.1.0 in d:\\logiciel\\anaconda\\lib\\site-packages (from imbalanced-learn->imblearn) (1.6.2)\n",
      "Requirement already satisfied: threadpoolctl>=2.0.0 in d:\\logiciel\\anaconda\\lib\\site-packages (from imbalanced-learn->imblearn) (2.1.0)\n",
      "Requirement already satisfied: joblib>=0.11 in d:\\logiciel\\anaconda\\lib\\site-packages (from imbalanced-learn->imblearn) (1.0.1)\n",
      "Requirement already satisfied: numpy>=1.14.6 in d:\\logiciel\\anaconda\\lib\\site-packages (from imbalanced-learn->imblearn) (1.20.1)\n",
      "Note: you may need to restart the kernel to use updated packages.\n"
     ]
    }
   ],
   "source": [
    "pip install imblearn --user"
   ]
  },
  {
   "cell_type": "code",
   "execution_count": 3,
   "id": "r5DNmq0hvyPL",
   "metadata": {
    "executionInfo": {
     "elapsed": 7,
     "status": "ok",
     "timestamp": 1648978254689,
     "user": {
      "displayName": "Oscar Fossey",
      "userId": "10790742002274273934"
     },
     "user_tz": -120
    },
    "id": "r5DNmq0hvyPL"
   },
   "outputs": [],
   "source": [
    "#import nltk\n",
    "#nltk.download('stopwords')"
   ]
  },
  {
   "cell_type": "code",
   "execution_count": 4,
   "id": "C-cvIyk2wVfZ",
   "metadata": {
    "executionInfo": {
     "elapsed": 7,
     "status": "ok",
     "timestamp": 1648978254690,
     "user": {
      "displayName": "Oscar Fossey",
      "userId": "10790742002274273934"
     },
     "user_tz": -120
    },
    "id": "C-cvIyk2wVfZ"
   },
   "outputs": [],
   "source": [
    "#!spacy download fr_core_news_sm"
   ]
  },
  {
   "cell_type": "code",
   "execution_count": 5,
   "id": "eeef8a65",
   "metadata": {
    "executionInfo": {
     "elapsed": 4696,
     "status": "ok",
     "timestamp": 1648978259380,
     "user": {
      "displayName": "Oscar Fossey",
      "userId": "10790742002274273934"
     },
     "user_tz": -120
    },
    "id": "eeef8a65"
   },
   "outputs": [],
   "source": [
    "import pandas as pd\n",
    "import numpy as np \n",
    "from sklearn.feature_extraction.text import TfidfVectorizer\n",
    "from sklearn.naive_bayes import MultinomialNB\n",
    "from sklearn import metrics\n",
    "import nltk\n",
    "import re\n",
    "import string\n",
    "import spacy\n",
    "from datasets import load_dataset"
   ]
  },
  {
   "cell_type": "code",
   "execution_count": 6,
   "id": "3g2hkjJguU7U",
   "metadata": {
    "colab": {
     "base_uri": "https://localhost:8080/",
     "height": 150,
     "referenced_widgets": [
      "9cc2f9be280c417fb2f08c2e7042ef5b",
      "5997d442476e43b48e43a76b32b4db7d",
      "87a1ee6900b749879b2916b658ad552c",
      "e5dca95001c845eb9d720a3d18d39603",
      "7a6afa9c66ef4515ba53532d87680297",
      "d57019a6190340e28b1adc7db88cfd45",
      "a1223dcb917d43cb96569a4d9d217950",
      "63a1d3f6d1ed493a84e71d67ae606cea",
      "e145b08bc6cc4e9b8f457f9eaca12e3d",
      "2a67998d0bc6457387e7da5b88e2e608",
      "701579b731704d2ea520bbd4fafb0fc3",
      "a5ea5ce53d804ebfa1029fa5735409c8",
      "5da804a146d6477bb3d07c525fbf2b1b",
      "8fa0c708d6f841b3ae67f1e415103e0e",
      "00ffb51b79ec4eef9cd5b7a6bdec4645",
      "406584d6ec1b40c99b27877a9bb069b4",
      "1a64abf13fb64c6cb390c34ecdbc7285",
      "a74644b9664740eaabcb3ac954df4b66",
      "f31068f6b9ac46cfb1119187473b7da7",
      "4aa9f673d7c04a79ae06a61aca6c3c1c",
      "647abb5220a34a0e9f29a8e92e259515",
      "aeda610fe9494cb9a73969586f6d141b"
     ]
    },
    "executionInfo": {
     "elapsed": 2432,
     "status": "ok",
     "timestamp": 1648978261804,
     "user": {
      "displayName": "Oscar Fossey",
      "userId": "10790742002274273934"
     },
     "user_tz": -120
    },
    "id": "3g2hkjJguU7U",
    "outputId": "7324e601-18b0-491e-a22e-350da683fed8"
   },
   "outputs": [
    {
     "name": "stderr",
     "output_type": "stream",
     "text": [
      "Using custom data configuration oscarfossey--NLP_Pole_emploi-153f415cbc12e71d\n",
      "Reusing dataset csv (C:\\Users\\admin\\.cache\\huggingface\\datasets\\csv\\oscarfossey--NLP_Pole_emploi-153f415cbc12e71d\\0.0.0\\433e0ccc46f9880962cc2b12065189766fbb2bee57a221866138fb9203c83519)\n"
     ]
    },
    {
     "data": {
      "application/vnd.jupyter.widget-view+json": {
       "model_id": "a1b388edc6b8468f8941b873a6019459",
       "version_major": 2,
       "version_minor": 0
      },
      "text/plain": [
       "  0%|          | 0/1 [00:00<?, ?it/s]"
      ]
     },
     "metadata": {},
     "output_type": "display_data"
    },
    {
     "name": "stderr",
     "output_type": "stream",
     "text": [
      "Using custom data configuration oscarfossey--NLP_Pole_emploi-22894eb1eb004fbf\n",
      "Reusing dataset csv (C:\\Users\\admin\\.cache\\huggingface\\datasets\\csv\\oscarfossey--NLP_Pole_emploi-22894eb1eb004fbf\\0.0.0\\433e0ccc46f9880962cc2b12065189766fbb2bee57a221866138fb9203c83519)\n"
     ]
    },
    {
     "data": {
      "application/vnd.jupyter.widget-view+json": {
       "model_id": "6513f98cd8484ce095514b677bb95345",
       "version_major": 2,
       "version_minor": 0
      },
      "text/plain": [
       "  0%|          | 0/1 [00:00<?, ?it/s]"
      ]
     },
     "metadata": {},
     "output_type": "display_data"
    }
   ],
   "source": [
    "dataset_train = load_dataset(\"oscarfossey/NLP_Pole_emploi\", data_files='train_dataset.csv')\n",
    "dataset_val = load_dataset(\"oscarfossey/NLP_Pole_emploi\", data_files='val_dataset.csv')"
   ]
  },
  {
   "cell_type": "code",
   "execution_count": 7,
   "id": "ea67d297",
   "metadata": {
    "executionInfo": {
     "elapsed": 12884,
     "status": "ok",
     "timestamp": 1648978274684,
     "user": {
      "displayName": "Oscar Fossey",
      "userId": "10790742002274273934"
     },
     "user_tz": -120
    },
    "id": "ea67d297"
   },
   "outputs": [],
   "source": [
    "df_train = pd.DataFrame(dataset_train['train'])\n",
    "df_val = pd.DataFrame(dataset_val['train'])"
   ]
  },
  {
   "cell_type": "code",
   "execution_count": 8,
   "id": "e2cb5a5f",
   "metadata": {
    "colab": {
     "base_uri": "https://localhost:8080/",
     "height": 81
    },
    "executionInfo": {
     "elapsed": 9,
     "status": "ok",
     "timestamp": 1648978274685,
     "user": {
      "displayName": "Oscar Fossey",
      "userId": "10790742002274273934"
     },
     "user_tz": -120
    },
    "id": "e2cb5a5f",
    "outputId": "d6c820dd-fe76-48ba-de5b-2ba4c7bcf8c6"
   },
   "outputs": [
    {
     "data": {
      "text/html": [
       "<div>\n",
       "<style scoped>\n",
       "    .dataframe tbody tr th:only-of-type {\n",
       "        vertical-align: middle;\n",
       "    }\n",
       "\n",
       "    .dataframe tbody tr th {\n",
       "        vertical-align: top;\n",
       "    }\n",
       "\n",
       "    .dataframe thead th {\n",
       "        text-align: right;\n",
       "    }\n",
       "</style>\n",
       "<table border=\"1\" class=\"dataframe\">\n",
       "  <thead>\n",
       "    <tr style=\"text-align: right;\">\n",
       "      <th></th>\n",
       "      <th>textual description</th>\n",
       "      <th>code_rome</th>\n",
       "      <th>categorie</th>\n",
       "      <th>sub_categorie</th>\n",
       "      <th>sub_sub_categorie</th>\n",
       "      <th>name</th>\n",
       "      <th>text_length</th>\n",
       "    </tr>\n",
       "  </thead>\n",
       "  <tbody>\n",
       "    <tr>\n",
       "      <th>0</th>\n",
       "      <td>Nous recherchons pour le compte de notre clien...</td>\n",
       "      <td>I1305</td>\n",
       "      <td>I</td>\n",
       "      <td>13</td>\n",
       "      <td>5</td>\n",
       "      <td>Installation et maintenance électronique</td>\n",
       "      <td>304</td>\n",
       "    </tr>\n",
       "  </tbody>\n",
       "</table>\n",
       "</div>"
      ],
      "text/plain": [
       "                                 textual description code_rome categorie  \\\n",
       "0  Nous recherchons pour le compte de notre clien...     I1305         I   \n",
       "\n",
       "   sub_categorie  sub_sub_categorie                                      name  \\\n",
       "0             13                  5  Installation et maintenance électronique   \n",
       "\n",
       "   text_length  \n",
       "0          304  "
      ]
     },
     "execution_count": 8,
     "metadata": {},
     "output_type": "execute_result"
    }
   ],
   "source": [
    "df_train.head(1)"
   ]
  },
  {
   "cell_type": "markdown",
   "id": "a97b7ca3",
   "metadata": {
    "id": "a97b7ca3"
   },
   "source": [
    "**Preprocessing du texte**"
   ]
  },
  {
   "cell_type": "code",
   "execution_count": 9,
   "id": "a0da076d",
   "metadata": {
    "executionInfo": {
     "elapsed": 8166,
     "status": "ok",
     "timestamp": 1648978282846,
     "user": {
      "displayName": "Oscar Fossey",
      "userId": "10790742002274273934"
     },
     "user_tz": -120
    },
    "id": "a0da076d"
   },
   "outputs": [],
   "source": [
    "stopwords = nltk.corpus.stopwords.words('french')\n",
    "nlp = spacy.load(\"fr_core_news_sm\")"
   ]
  },
  {
   "cell_type": "code",
   "execution_count": 10,
   "id": "c83c7e43",
   "metadata": {
    "executionInfo": {
     "elapsed": 10,
     "status": "ok",
     "timestamp": 1648978282847,
     "user": {
      "displayName": "Oscar Fossey",
      "userId": "10790742002274273934"
     },
     "user_tz": -120
    },
    "id": "c83c7e43"
   },
   "outputs": [],
   "source": [
    "def preprocessing(text):\n",
    "    text = text.lower()\n",
    "    text = text.replace('(', ' ').replace(')', ' ').replace('.', ' ').replace('  ', ' ')  #drop '(', ')', '.'\n",
    "    text = nlp(text)\n",
    "    #words = [token.text for token in sent for sent in doc.sents if not token.text in set(stopwords)]\n",
    "    words = [token.lemma_ for sent in text.sents for token in sent if not token.text in set(stopwords)]\n",
    "    string = ' '.join(words)\n",
    "    return string"
   ]
  },
  {
   "cell_type": "markdown",
   "id": "72820e60",
   "metadata": {
    "id": "72820e60"
   },
   "source": [
    "**Raw text :**"
   ]
  },
  {
   "cell_type": "code",
   "execution_count": 11,
   "id": "daa306e8",
   "metadata": {
    "colab": {
     "base_uri": "https://localhost:8080/",
     "height": 53
    },
    "executionInfo": {
     "elapsed": 9,
     "status": "ok",
     "timestamp": 1648978282848,
     "user": {
      "displayName": "Oscar Fossey",
      "userId": "10790742002274273934"
     },
     "user_tz": -120
    },
    "id": "daa306e8",
    "outputId": "ddc953af-c0aa-4a85-d459-a63c48a2c7e5"
   },
   "outputs": [
    {
     "data": {
      "text/plain": [
       "\"Nous recherchons pour le compte de notre client basé à Crepy en Valois un(e) Electromecanicien.les tâches sont:Suivi de la disponibilité du matériel nettoyage, réparations des éléments défectueux Rédaction des fiches techniques d'intervention Participation à l'amélioration des procédures de maintenance \""
      ]
     },
     "execution_count": 11,
     "metadata": {},
     "output_type": "execute_result"
    }
   ],
   "source": [
    "df_train.iloc[0]['textual description']"
   ]
  },
  {
   "cell_type": "markdown",
   "id": "14d92fcb",
   "metadata": {
    "id": "14d92fcb"
   },
   "source": [
    "**Preprocessed text :**"
   ]
  },
  {
   "cell_type": "code",
   "execution_count": 12,
   "id": "603da2b3",
   "metadata": {
    "colab": {
     "base_uri": "https://localhost:8080/",
     "height": 53
    },
    "executionInfo": {
     "elapsed": 7,
     "status": "ok",
     "timestamp": 1648978282848,
     "user": {
      "displayName": "Oscar Fossey",
      "userId": "10790742002274273934"
     },
     "user_tz": -120
    },
    "id": "603da2b3",
    "outputId": "4544e9cf-82fc-4f66-e8ea-fa0a9f325641",
    "scrolled": true
   },
   "outputs": [
    {
     "data": {
      "text/plain": [
       "'rechercher compte client baser crepy valoi e electromecanicien tâche : suivre disponibilité matériel nettoyage , réparation élément défectueux rédaction fiche technique de intervention participation le amélioration procédure maintenance'"
      ]
     },
     "execution_count": 12,
     "metadata": {},
     "output_type": "execute_result"
    }
   ],
   "source": [
    "preprocessing(df_train.iloc[0]['textual description'])"
   ]
  },
  {
   "cell_type": "code",
   "execution_count": 13,
   "id": "fcf0dbc0",
   "metadata": {
    "executionInfo": {
     "elapsed": 1446992,
     "status": "ok",
     "timestamp": 1648979729834,
     "user": {
      "displayName": "Oscar Fossey",
      "userId": "10790742002274273934"
     },
     "user_tz": -120
    },
    "id": "fcf0dbc0"
   },
   "outputs": [],
   "source": [
    "df_train['textual description'] = df_train['textual description'].apply(preprocessing)\n"
   ]
  },
  {
   "cell_type": "code",
   "execution_count": 14,
   "id": "a9fee287",
   "metadata": {
    "executionInfo": {
     "elapsed": 454984,
     "status": "ok",
     "timestamp": 1648981172986,
     "user": {
      "displayName": "Oscar Fossey",
      "userId": "10790742002274273934"
     },
     "user_tz": -120
    },
    "id": "a9fee287"
   },
   "outputs": [],
   "source": [
    "df_val['textual description'] = df_val['textual description'].apply(preprocessing)"
   ]
  },
  {
   "cell_type": "code",
   "execution_count": 15,
   "id": "af37b1f0",
   "metadata": {
    "executionInfo": {
     "elapsed": 17,
     "status": "ok",
     "timestamp": 1648981172986,
     "user": {
      "displayName": "Oscar Fossey",
      "userId": "10790742002274273934"
     },
     "user_tz": -120
    },
    "id": "af37b1f0"
   },
   "outputs": [],
   "source": [
    "train_X = df_train['textual description']   \n",
    "train_y = df_train['categorie']   \n",
    "val_X = df_val['textual description']\n",
    "val_y = df_val['categorie']"
   ]
  },
  {
   "cell_type": "markdown",
   "id": "006d8044",
   "metadata": {
    "id": "006d8044"
   },
   "source": [
    "**Vectorization**"
   ]
  },
  {
   "cell_type": "code",
   "execution_count": 16,
   "id": "9b696b72",
   "metadata": {
    "executionInfo": {
     "elapsed": 9098,
     "status": "ok",
     "timestamp": 1648981182078,
     "user": {
      "displayName": "Oscar Fossey",
      "userId": "10790742002274273934"
     },
     "user_tz": -120
    },
    "id": "9b696b72"
   },
   "outputs": [],
   "source": [
    "#tf idf\n",
    "tf_idf = TfidfVectorizer()\n",
    "#applying tf idf to training data\n",
    "X_train_vect = tf_idf.fit_transform(train_X)\n",
    "#applying tf idf to training data\n",
    "X_train_vect = tf_idf.transform(train_X)"
   ]
  },
  {
   "cell_type": "code",
   "execution_count": 17,
   "id": "a1e3acbe",
   "metadata": {
    "colab": {
     "base_uri": "https://localhost:8080/"
    },
    "executionInfo": {
     "elapsed": 14,
     "status": "ok",
     "timestamp": 1648981182078,
     "user": {
      "displayName": "Oscar Fossey",
      "userId": "10790742002274273934"
     },
     "user_tz": -120
    },
    "id": "a1e3acbe",
    "outputId": "e91e8af4-999f-4158-b79e-4c7cc5ddd6be"
   },
   "outputs": [
    {
     "name": "stdout",
     "output_type": "stream",
     "text": [
      "n_samples: 38640, n_features: 96238\n"
     ]
    }
   ],
   "source": [
    "print(\"n_samples: %d, n_features: %d\" % X_train_vect.shape)"
   ]
  },
  {
   "cell_type": "markdown",
   "id": "13f3b69f",
   "metadata": {
    "id": "13f3b69f"
   },
   "source": [
    "**We fit the transformer on the train dataset and use this transformer to estimate the validation dataset (whitou fitting)**"
   ]
  },
  {
   "cell_type": "code",
   "execution_count": 18,
   "id": "04322042",
   "metadata": {
    "executionInfo": {
     "elapsed": 1624,
     "status": "ok",
     "timestamp": 1648981183700,
     "user": {
      "displayName": "Oscar Fossey",
      "userId": "10790742002274273934"
     },
     "user_tz": -120
    },
    "id": "04322042"
   },
   "outputs": [],
   "source": [
    "#transforming test data into tf-idf matrix\n",
    "X_val_vect = tf_idf.transform(val_X)"
   ]
  },
  {
   "cell_type": "code",
   "execution_count": 19,
   "id": "4e3ed854",
   "metadata": {
    "colab": {
     "base_uri": "https://localhost:8080/"
    },
    "executionInfo": {
     "elapsed": 5,
     "status": "ok",
     "timestamp": 1648981183701,
     "user": {
      "displayName": "Oscar Fossey",
      "userId": "10790742002274273934"
     },
     "user_tz": -120
    },
    "id": "4e3ed854",
    "outputId": "d3089181-5b40-40a7-c5c2-606df50afef8"
   },
   "outputs": [
    {
     "name": "stdout",
     "output_type": "stream",
     "text": [
      "n_samples: 12881, n_features: 96238\n"
     ]
    }
   ],
   "source": [
    "print(\"n_samples: %d, n_features: %d\" % X_val_vect.shape)"
   ]
  },
  {
   "cell_type": "markdown",
   "id": "29668ffc",
   "metadata": {
    "id": "29668ffc"
   },
   "source": [
    "**Prediction with a naive Bayes Classifier using the transformer**"
   ]
  },
  {
   "cell_type": "code",
   "execution_count": 20,
   "id": "bde5cb6b",
   "metadata": {
    "colab": {
     "base_uri": "https://localhost:8080/"
    },
    "executionInfo": {
     "elapsed": 367,
     "status": "ok",
     "timestamp": 1648981184065,
     "user": {
      "displayName": "Oscar Fossey",
      "userId": "10790742002274273934"
     },
     "user_tz": -120
    },
    "id": "bde5cb6b",
    "outputId": "fde539e0-ea74-45b7-bce4-ead80852a8f9"
   },
   "outputs": [
    {
     "data": {
      "text/plain": [
       "MultinomialNB()"
      ]
     },
     "execution_count": 20,
     "metadata": {},
     "output_type": "execute_result"
    }
   ],
   "source": [
    "naive_bayes_classifier = MultinomialNB()\n",
    "naive_bayes_classifier.fit(X_train_vect, train_y)"
   ]
  },
  {
   "cell_type": "code",
   "execution_count": 21,
   "id": "20b4183f",
   "metadata": {
    "colab": {
     "base_uri": "https://localhost:8080/"
    },
    "executionInfo": {
     "elapsed": 5,
     "status": "ok",
     "timestamp": 1648981184066,
     "user": {
      "displayName": "Oscar Fossey",
      "userId": "10790742002274273934"
     },
     "user_tz": -120
    },
    "id": "20b4183f",
    "outputId": "1f211572-aed9-4a5a-94e3-907fa700cb38"
   },
   "outputs": [
    {
     "name": "stdout",
     "output_type": "stream",
     "text": [
      "              precision    recall  f1-score   support\n",
      "\n",
      "           I       0.97      0.18      0.30       680\n",
      "           N       0.00      0.00      0.00       185\n",
      "           K       0.97      0.12      0.22       619\n",
      "           G       0.82      0.49      0.62      1046\n",
      "           H       1.00      0.05      0.09       489\n",
      "           A       0.93      0.31      0.46      1054\n",
      "           M       0.87      0.33      0.48       863\n",
      "           L       0.33      0.96      0.50      2324\n",
      "           D       0.97      0.07      0.13       810\n",
      "           B       0.94      0.51      0.66       910\n",
      "           F       0.47      0.74      0.58      1718\n",
      "           E       1.00      0.09      0.16       198\n",
      "           J       0.50      0.51      0.50      1257\n",
      "           C       0.97      0.08      0.15       728\n",
      "\n",
      "    accuracy                           0.47     12881\n",
      "   macro avg       0.77      0.32      0.35     12881\n",
      "weighted avg       0.71      0.47      0.43     12881\n",
      "\n"
     ]
    },
    {
     "name": "stderr",
     "output_type": "stream",
     "text": [
      "D:\\Logiciel\\Anaconda\\lib\\site-packages\\sklearn\\metrics\\_classification.py:1318: UndefinedMetricWarning: Precision and F-score are ill-defined and being set to 0.0 in labels with no predicted samples. Use `zero_division` parameter to control this behavior.\n",
      "  _warn_prf(average, modifier, msg_start, len(result))\n",
      "D:\\Logiciel\\Anaconda\\lib\\site-packages\\sklearn\\metrics\\_classification.py:1318: UndefinedMetricWarning: Precision and F-score are ill-defined and being set to 0.0 in labels with no predicted samples. Use `zero_division` parameter to control this behavior.\n",
      "  _warn_prf(average, modifier, msg_start, len(result))\n",
      "D:\\Logiciel\\Anaconda\\lib\\site-packages\\sklearn\\metrics\\_classification.py:1318: UndefinedMetricWarning: Precision and F-score are ill-defined and being set to 0.0 in labels with no predicted samples. Use `zero_division` parameter to control this behavior.\n",
      "  _warn_prf(average, modifier, msg_start, len(result))\n"
     ]
    }
   ],
   "source": [
    "y_pred = naive_bayes_classifier.predict(X_val_vect)\n",
    "print(metrics.classification_report(val_y, y_pred, target_names=list(df_train[\"categorie\"].unique())))"
   ]
  },
  {
   "cell_type": "code",
   "execution_count": 22,
   "id": "b69500ea",
   "metadata": {
    "executionInfo": {
     "elapsed": 2,
     "status": "ok",
     "timestamp": 1648981184066,
     "user": {
      "displayName": "Oscar Fossey",
      "userId": "10790742002274273934"
     },
     "user_tz": -120
    },
    "id": "b69500ea"
   },
   "outputs": [],
   "source": [
    "import matplotlib.pyplot as plt\n",
    "from sklearn.metrics import confusion_matrix, ConfusionMatrixDisplay"
   ]
  },
  {
   "cell_type": "code",
   "execution_count": 23,
   "id": "fd6f3499",
   "metadata": {
    "colab": {
     "base_uri": "https://localhost:8080/",
     "height": 580
    },
    "executionInfo": {
     "elapsed": 1216,
     "status": "ok",
     "timestamp": 1648982426418,
     "user": {
      "displayName": "Oscar Fossey",
      "userId": "10790742002274273934"
     },
     "user_tz": -120
    },
    "id": "fd6f3499",
    "outputId": "142bc331-188a-4f58-f7b7-cd209f4f9327"
   },
   "outputs": [
    {
     "data": {
      "image/png": "[encoded data removed]",
      "text/plain": [
       "<Figure size 432x288 with 2 Axes>"
      ]
     },
     "metadata": {
      "needs_background": "light"
     },
     "output_type": "display_data"
    }
   ],
   "source": [
    "cm = confusion_matrix(val_y, y_pred)\n",
    "\n",
    "cmd_obj = ConfusionMatrixDisplay(cm, display_labels=list(df_val.sort_values(\"categorie\")[\"categorie\"].unique()))\n",
    "cmd_obj.plot()\n",
    "cmd_obj.ax_.set(title='Confusion Matrix', \n",
    "                xlabel='Predicted Job Categorie', \n",
    "                ylabel='Actual Job Categorie',)\n",
    "\n",
    "plt.rcParams[\"figure.figsize\"] = (15,15)\n",
    "plt.show()"
   ]
  },
  {
   "cell_type": "code",
   "execution_count": 24,
   "id": "e995bcd5",
   "metadata": {},
   "outputs": [
    {
     "name": "stdout",
     "output_type": "stream",
     "text": [
      "Blue : predicted label \n",
      "Orange : true label\n"
     ]
    },
    {
     "data": {
      "image/png": "[encoded data removed]",
      "text/plain": [
       "<Figure size 720x504 with 1 Axes>"
      ]
     },
     "metadata": {
      "needs_background": "light"
     },
     "output_type": "display_data"
    }
   ],
   "source": [
    "\n",
    "pd.DataFrame(y_pred).sort_values(0)[0].hist(bins = 28, grid = False, figsize = (10,7))\n",
    "df_val.sort_values('categorie')[\"categorie\"].hist(bins = 52, grid = False, figsize = (10,7))\n",
    "print(\"Blue : predicted label \\nOrange : true label\")"
   ]
  },
  {
   "cell_type": "markdown",
   "id": "06a687ea",
   "metadata": {},
   "source": [
    "**Although we suspect that the Tf-idf model can not perform perfectly to classify the trades. We notice that our training dataset is unbalanced and biases the naive bayes estimator.**"
   ]
  },
  {
   "cell_type": "markdown",
   "id": "dd6c30d6",
   "metadata": {},
   "source": [
    "## Balancing the datset using over/under sampling method on the train set"
   ]
  },
  {
   "cell_type": "markdown",
   "id": "ce5e49a5",
   "metadata": {},
   "source": [
    "**OverSampling**"
   ]
  },
  {
   "cell_type": "code",
   "execution_count": 40,
   "id": "a1ad3f0f",
   "metadata": {},
   "outputs": [],
   "source": [
    "from imblearn.over_sampling import RandomOverSampler\n",
    "\n",
    "oversample = RandomOverSampler(sampling_strategy ='all')"
   ]
  },
  {
   "cell_type": "code",
   "execution_count": 41,
   "id": "55c5b754",
   "metadata": {},
   "outputs": [],
   "source": [
    "train_X_over, y_train_over = oversample.fit_resample(train_X.values.reshape(-1, 1), train_y.values.reshape(-1, 1))"
   ]
  },
  {
   "cell_type": "code",
   "execution_count": 42,
   "id": "49212ab7",
   "metadata": {},
   "outputs": [],
   "source": [
    "train_X_over, y_train_over = train_X_over.flatten(), y_train_over.flatten()"
   ]
  },
  {
   "cell_type": "markdown",
   "id": "5d1fe27e",
   "metadata": {},
   "source": [
    "**Train of tf_idf model with over sampled data**"
   ]
  },
  {
   "cell_type": "code",
   "execution_count": 43,
   "id": "f791b47c",
   "metadata": {},
   "outputs": [],
   "source": [
    "#tf idf\n",
    "tf_idf_over = TfidfVectorizer()\n",
    "#applying tf idf to training data\n",
    "X_train_vect_over = tf_idf_over.fit_transform(train_X_over)\n",
    "#applying tf idf to training data\n",
    "X_train_vect_over = tf_idf_over.transform(train_X_over)"
   ]
  },
  {
   "cell_type": "code",
   "execution_count": 44,
   "id": "65d45255",
   "metadata": {},
   "outputs": [
    {
     "name": "stdout",
     "output_type": "stream",
     "text": [
      "n_samples: 95242, n_features: 96238\n"
     ]
    }
   ],
   "source": [
    "print(\"n_samples: %d, n_features: %d\" % X_train_vect_over.shape)"
   ]
  },
  {
   "cell_type": "code",
   "execution_count": 45,
   "id": "4a026b71",
   "metadata": {},
   "outputs": [
    {
     "name": "stdout",
     "output_type": "stream",
     "text": [
      "Blue : balanced dataset \n",
      "Orange : unbalanced dataset\n"
     ]
    },
    {
     "data": {
      "image/png": "[encoded data removed]",
      "text/plain": [
       "<Figure size 720x504 with 1 Axes>"
      ]
     },
     "metadata": {
      "needs_background": "light"
     },
     "output_type": "display_data"
    }
   ],
   "source": [
    "pd.DataFrame(y_train_over).sort_values(0)[0].hist(bins = 28, grid = False, figsize = (10,7))\n",
    "df_train.sort_values('categorie')[\"categorie\"].hist(bins = 52, grid = False, figsize = (10,7))\n",
    "print(\"Blue : balanced dataset \\nOrange : unbalanced dataset\")"
   ]
  },
  {
   "cell_type": "markdown",
   "id": "eca3268c",
   "metadata": {},
   "source": [
    "**Vectorization of the validation data (NOT OVER SAMPLED)**"
   ]
  },
  {
   "cell_type": "code",
   "execution_count": 46,
   "id": "ebad6c70",
   "metadata": {},
   "outputs": [
    {
     "name": "stdout",
     "output_type": "stream",
     "text": [
      "n_samples: 12881, n_features: 96238\n"
     ]
    }
   ],
   "source": [
    "#transforming test data into tf-idf matrix\n",
    "X_val_vect_over = tf_idf_over.transform(val_X)\n",
    "print(\"n_samples: %d, n_features: %d\" % X_val_vect.shape)"
   ]
  },
  {
   "cell_type": "code",
   "execution_count": 48,
   "id": "25865021",
   "metadata": {},
   "outputs": [
    {
     "data": {
      "text/plain": [
       "MultinomialNB()"
      ]
     },
     "execution_count": 48,
     "metadata": {},
     "output_type": "execute_result"
    }
   ],
   "source": [
    "naive_bayes_classifier_over = MultinomialNB()\n",
    "naive_bayes_classifier_over.fit(X_train_vect_over, y_train_over)"
   ]
  },
  {
   "cell_type": "code",
   "execution_count": 52,
   "id": "230343f9",
   "metadata": {},
   "outputs": [
    {
     "name": "stdout",
     "output_type": "stream",
     "text": [
      "              precision    recall  f1-score   support\n",
      "\n",
      "           I       0.85      0.68      0.76       680\n",
      "           N       0.44      0.68      0.54       185\n",
      "           K       0.48      0.78      0.59       619\n",
      "           G       0.75      0.69      0.72      1046\n",
      "           H       0.63      0.54      0.58       489\n",
      "           A       0.73      0.74      0.74      1054\n",
      "           M       0.75      0.77      0.76       863\n",
      "           L       0.75      0.67      0.71      2324\n",
      "           D       0.61      0.67      0.64       810\n",
      "           B       0.81      0.91      0.86       910\n",
      "           F       0.82      0.58      0.68      1718\n",
      "           E       0.76      0.57      0.65       198\n",
      "           J       0.51      0.66      0.58      1257\n",
      "           C       0.70      0.71      0.71       728\n",
      "\n",
      "    accuracy                           0.69     12881\n",
      "   macro avg       0.69      0.69      0.68     12881\n",
      "weighted avg       0.71      0.69      0.69     12881\n",
      "\n"
     ]
    }
   ],
   "source": [
    "y_pred_over = naive_bayes_classifier_over.predict(X_val_vect_over)\n",
    "print(metrics.classification_report(val_y, y_pred_over, target_names=list(df_train[\"categorie\"].unique())))"
   ]
  },
  {
   "cell_type": "code",
   "execution_count": 54,
   "id": "aa047a06",
   "metadata": {},
   "outputs": [
    {
     "data": {
      "image/png": "[encoded data removed]",
      "text/plain": [
       "<Figure size 1080x1080 with 2 Axes>"
      ]
     },
     "metadata": {
      "needs_background": "light"
     },
     "output_type": "display_data"
    }
   ],
   "source": [
    "cm_over = confusion_matrix(val_y, y_pred_over)\n",
    "\n",
    "cmd_obj_over = ConfusionMatrixDisplay(cm_over, display_labels=list(df_val.sort_values(\"categorie\")[\"categorie\"].unique()))\n",
    "cmd_obj_over.plot()\n",
    "cmd_obj_over.ax_.set(title='Confusion Matrix', \n",
    "                xlabel='Predicted Job Categorie', \n",
    "                ylabel='Actual Job Categorie',)\n",
    "\n",
    "plt.rcParams[\"figure.figsize\"] = (15,15)\n",
    "plt.show()"
   ]
  },
  {
   "cell_type": "markdown",
   "id": "632a98e8",
   "metadata": {},
   "source": [
    "**UnderSampling**"
   ]
  },
  {
   "cell_type": "code",
   "execution_count": 55,
   "id": "4c6d5403",
   "metadata": {},
   "outputs": [],
   "source": [
    "from imblearn.under_sampling import RandomUnderSampler\n",
    "\n",
    "undersample = RandomUnderSampler(sampling_strategy ='all')"
   ]
  },
  {
   "cell_type": "code",
   "execution_count": 59,
   "id": "5518bad9",
   "metadata": {},
   "outputs": [
    {
     "name": "stdout",
     "output_type": "stream",
     "text": [
      "n_samples: 7490, n_features: 37491\n",
      "n_samples: 12881, n_features: 96238\n",
      "              precision    recall  f1-score   support\n",
      "\n",
      "           I       0.84      0.60      0.70       680\n",
      "           N       0.41      0.63      0.50       185\n",
      "           K       0.35      0.83      0.49       619\n",
      "           G       0.74      0.64      0.69      1046\n",
      "           H       0.64      0.48      0.55       489\n",
      "           A       0.72      0.68      0.70      1054\n",
      "           M       0.73      0.70      0.71       863\n",
      "           L       0.72      0.62      0.67      2324\n",
      "           D       0.54      0.68      0.60       810\n",
      "           B       0.77      0.89      0.83       910\n",
      "           F       0.82      0.45      0.58      1718\n",
      "           E       0.77      0.57      0.65       198\n",
      "           J       0.49      0.63      0.55      1257\n",
      "           C       0.66      0.68      0.67       728\n",
      "\n",
      "    accuracy                           0.64     12881\n",
      "   macro avg       0.66      0.65      0.64     12881\n",
      "weighted avg       0.68      0.64      0.65     12881\n",
      "\n"
     ]
    },
    {
     "data": {
      "image/png": "[encoded data removed]",
      "text/plain": [
       "<Figure size 1080x1080 with 2 Axes>"
      ]
     },
     "metadata": {
      "needs_background": "light"
     },
     "output_type": "display_data"
    }
   ],
   "source": [
    "train_X_under, y_train_under = undersample.fit_resample(train_X.values.reshape(-1, 1), train_y.values.reshape(-1, 1))\n",
    "train_X_under, y_train_under = train_X_under.flatten(), y_train_under.flatten()\n",
    "#tf idf\n",
    "tf_idf_under = TfidfVectorizer()\n",
    "#applying tf idf to training data\n",
    "X_train_vect_under = tf_idf_under.fit_transform(train_X_under)\n",
    "#applying tf idf to training data\n",
    "X_train_vect_under = tf_idf_under.transform(train_X_under)\n",
    "print(\"n_samples: %d, n_features: %d\" % X_train_vect_under.shape)\n",
    "#transforming test data into tf-idf matrix\n",
    "X_val_vect_under = tf_idf_under.transform(val_X)\n",
    "print(\"n_samples: %d, n_features: %d\" % X_val_vect.shape)\n",
    "naive_bayes_classifier_under = MultinomialNB()\n",
    "naive_bayes_classifier_under.fit(X_train_vect_under, y_train_under)\n",
    "y_pred_under = naive_bayes_classifier_under.predict(X_val_vect_under)\n",
    "print(metrics.classification_report(val_y, y_pred_under, target_names=list(df_train[\"categorie\"].unique())))\n",
    "cm_under= confusion_matrix(val_y, y_pred_under)\n",
    "\n",
    "cmd_obj_under = ConfusionMatrixDisplay(cm_under, display_labels=list(df_val.sort_values(\"categorie\")[\"categorie\"].unique()))\n",
    "cmd_obj_under.plot()\n",
    "cmd_obj_under.ax_.set(title='Confusion Matrix', \n",
    "                xlabel='Predicted Job Categorie', \n",
    "                ylabel='Actual Job Categorie',)\n",
    "\n",
    "plt.rcParams[\"figure.figsize\"] = (15,15)\n",
    "plt.show()"
   ]
  },
  {
   "cell_type": "markdown",
   "id": "ba718a93",
   "metadata": {},
   "source": [
    "## Conclusion"
   ]
  },
  {
   "cell_type": "markdown",
   "id": "3acfe828",
   "metadata": {},
   "source": [
    "With made three models using tfidf methods with three different sampling technics to build our train dataset.\n",
    "\n",
    " -No sampling technics : 47% accuracy on the val dataset\n",
    " \n",
    " -Oversampling technics : 69% accuracy on the val dataset\n",
    " \n",
    " -Undersampling technics : 64% accuracy on the val dataset"
   ]
  },
  {
   "cell_type": "code",
   "execution_count": null,
   "id": "75195221",
   "metadata": {},
   "outputs": [],
   "source": []
  }
 ],
 "metadata": {
  "colab": {
   "collapsed_sections": [],
   "name": "Tf-IDF Model.ipynb",
   "provenance": []
  },
  "kernelspec": {
   "display_name": "Python 3",
   "language": "python",
   "name": "python3"
  },
  "language_info": {
   "codemirror_mode": {
    "name": "ipython",
    "version": 3
   },
   "file_extension": ".py",
   "mimetype": "text/x-python",
   "name": "python",
   "nbconvert_exporter": "python",
   "pygments_lexer": "ipython3",
   "version": "3.8.8"
  },
  "widgets": {
   "application/vnd.jupyter.widget-state+json": {
    "00ffb51b79ec4eef9cd5b7a6bdec4645": {
     "model_module": "@jupyter-widgets/controls",
     "model_module_version": "1.5.0",
     "model_name": "HTMLModel",
     "state": {
      "_dom_classes": [],
      "_model_module": "@jupyter-widgets/controls",
      "_model_module_version": "1.5.0",
      "_model_name": "HTMLModel",
      "_view_count": null,
      "_view_module": "@jupyter-widgets/controls",
      "_view_module_version": "1.5.0",
      "_view_name": "HTMLView",
      "description": "",
      "description_tooltip": null,
      "layout": "IPY_MODEL_647abb5220a34a0e9f29a8e92e259515",
      "placeholder": "​",
      "style": "IPY_MODEL_aeda610fe9494cb9a73969586f6d141b",
      "value": " 1/1 [00:00&lt;00:00,  6.92it/s]"
     }
    },
    "1a64abf13fb64c6cb390c34ecdbc7285": {
     "model_module": "@jupyter-widgets/base",
     "model_module_version": "1.2.0",
     "model_name": "LayoutModel",
     "state": {
      "_model_module": "@jupyter-widgets/base",
      "_model_module_version": "1.2.0",
      "_model_name": "LayoutModel",
      "_view_count": null,
      "_view_module": "@jupyter-widgets/base",
      "_view_module_version": "1.2.0",
      "_view_name": "LayoutView",
      "align_content": null,
      "align_items": null,
      "align_self": null,
      "border": null,
      "bottom": null,
      "display": null,
      "flex": null,
      "flex_flow": null,
      "grid_area": null,
      "grid_auto_columns": null,
      "grid_auto_flow": null,
      "grid_auto_rows": null,
      "grid_column": null,
      "grid_gap": null,
      "grid_row": null,
      "grid_template_areas": null,
      "grid_template_columns": null,
      "grid_template_rows": null,
      "height": null,
      "justify_content": null,
      "justify_items": null,
      "left": null,
      "margin": null,
      "max_height": null,
      "max_width": null,
      "min_height": null,
      "min_width": null,
      "object_fit": null,
      "object_position": null,
      "order": null,
      "overflow": null,
      "overflow_x": null,
      "overflow_y": null,
      "padding": null,
      "right": null,
      "top": null,
      "visibility": null,
      "width": null
     }
    },
    "2a67998d0bc6457387e7da5b88e2e608": {
     "model_module": "@jupyter-widgets/base",
     "model_module_version": "1.2.0",
     "model_name": "LayoutModel",
     "state": {
      "_model_module": "@jupyter-widgets/base",
      "_model_module_version": "1.2.0",
      "_model_name": "LayoutModel",
      "_view_count": null,
      "_view_module": "@jupyter-widgets/base",
      "_view_module_version": "1.2.0",
      "_view_name": "LayoutView",
      "align_content": null,
      "align_items": null,
      "align_self": null,
      "border": null,
      "bottom": null,
      "display": null,
      "flex": null,
      "flex_flow": null,
      "grid_area": null,
      "grid_auto_columns": null,
      "grid_auto_flow": null,
      "grid_auto_rows": null,
      "grid_column": null,
      "grid_gap": null,
      "grid_row": null,
      "grid_template_areas": null,
      "grid_template_columns": null,
      "grid_template_rows": null,
      "height": null,
      "justify_content": null,
      "justify_items": null,
      "left": null,
      "margin": null,
      "max_height": null,
      "max_width": null,
      "min_height": null,
      "min_width": null,
      "object_fit": null,
      "object_position": null,
      "order": null,
      "overflow": null,
      "overflow_x": null,
      "overflow_y": null,
      "padding": null,
      "right": null,
      "top": null,
      "visibility": null,
      "width": null
     }
    },
    "406584d6ec1b40c99b27877a9bb069b4": {
     "model_module": "@jupyter-widgets/base",
     "model_module_version": "1.2.0",
     "model_name": "LayoutModel",
     "state": {
      "_model_module": "@jupyter-widgets/base",
      "_model_module_version": "1.2.0",
      "_model_name": "LayoutModel",
      "_view_count": null,
      "_view_module": "@jupyter-widgets/base",
      "_view_module_version": "1.2.0",
      "_view_name": "LayoutView",
      "align_content": null,
      "align_items": null,
      "align_self": null,
      "border": null,
      "bottom": null,
      "display": null,
      "flex": null,
      "flex_flow": null,
      "grid_area": null,
      "grid_auto_columns": null,
      "grid_auto_flow": null,
      "grid_auto_rows": null,
      "grid_column": null,
      "grid_gap": null,
      "grid_row": null,
      "grid_template_areas": null,
      "grid_template_columns": null,
      "grid_template_rows": null,
      "height": null,
      "justify_content": null,
      "justify_items": null,
      "left": null,
      "margin": null,
      "max_height": null,
      "max_width": null,
      "min_height": null,
      "min_width": null,
      "object_fit": null,
      "object_position": null,
      "order": null,
      "overflow": null,
      "overflow_x": null,
      "overflow_y": null,
      "padding": null,
      "right": null,
      "top": null,
      "visibility": null,
      "width": null
     }
    },
    "4aa9f673d7c04a79ae06a61aca6c3c1c": {
     "model_module": "@jupyter-widgets/controls",
     "model_module_version": "1.5.0",
     "model_name": "ProgressStyleModel",
     "state": {
      "_model_module": "@jupyter-widgets/controls",
      "_model_module_version": "1.5.0",
      "_model_name": "ProgressStyleModel",
      "_view_count": null,
      "_view_module": "@jupyter-widgets/base",
      "_view_module_version": "1.2.0",
      "_view_name": "StyleView",
      "bar_color": null,
      "description_width": ""
     }
    },
    "5997d442476e43b48e43a76b32b4db7d": {
     "model_module": "@jupyter-widgets/controls",
     "model_module_version": "1.5.0",
     "model_name": "HTMLModel",
     "state": {
      "_dom_classes": [],
      "_model_module": "@jupyter-widgets/controls",
      "_model_module_version": "1.5.0",
      "_model_name": "HTMLModel",
      "_view_count": null,
      "_view_module": "@jupyter-widgets/controls",
      "_view_module_version": "1.5.0",
      "_view_name": "HTMLView",
      "description": "",
      "description_tooltip": null,
      "layout": "IPY_MODEL_d57019a6190340e28b1adc7db88cfd45",
      "placeholder": "​",
      "style": "IPY_MODEL_a1223dcb917d43cb96569a4d9d217950",
      "value": "100%"
     }
    },
    "5da804a146d6477bb3d07c525fbf2b1b": {
     "model_module": "@jupyter-widgets/controls",
     "model_module_version": "1.5.0",
     "model_name": "HTMLModel",
     "state": {
      "_dom_classes": [],
      "_model_module": "@jupyter-widgets/controls",
      "_model_module_version": "1.5.0",
      "_model_name": "HTMLModel",
      "_view_count": null,
      "_view_module": "@jupyter-widgets/controls",
      "_view_module_version": "1.5.0",
      "_view_name": "HTMLView",
      "description": "",
      "description_tooltip": null,
      "layout": "IPY_MODEL_1a64abf13fb64c6cb390c34ecdbc7285",
      "placeholder": "​",
      "style": "IPY_MODEL_a74644b9664740eaabcb3ac954df4b66",
      "value": "100%"
     }
    },
    "63a1d3f6d1ed493a84e71d67ae606cea": {
     "model_module": "@jupyter-widgets/base",
     "model_module_version": "1.2.0",
     "model_name": "LayoutModel",
     "state": {
      "_model_module": "@jupyter-widgets/base",
      "_model_module_version": "1.2.0",
      "_model_name": "LayoutModel",
      "_view_count": null,
      "_view_module": "@jupyter-widgets/base",
      "_view_module_version": "1.2.0",
      "_view_name": "LayoutView",
      "align_content": null,
      "align_items": null,
      "align_self": null,
      "border": null,
      "bottom": null,
      "display": null,
      "flex": null,
      "flex_flow": null,
      "grid_area": null,
      "grid_auto_columns": null,
      "grid_auto_flow": null,
      "grid_auto_rows": null,
      "grid_column": null,
      "grid_gap": null,
      "grid_row": null,
      "grid_template_areas": null,
      "grid_template_columns": null,
      "grid_template_rows": null,
      "height": null,
      "justify_content": null,
      "justify_items": null,
      "left": null,
      "margin": null,
      "max_height": null,
      "max_width": null,
      "min_height": null,
      "min_width": null,
      "object_fit": null,
      "object_position": null,
      "order": null,
      "overflow": null,
      "overflow_x": null,
      "overflow_y": null,
      "padding": null,
      "right": null,
      "top": null,
      "visibility": null,
      "width": null
     }
    },
    "647abb5220a34a0e9f29a8e92e259515": {
     "model_module": "@jupyter-widgets/base",
     "model_module_version": "1.2.0",
     "model_name": "LayoutModel",
     "state": {
      "_model_module": "@jupyter-widgets/base",
      "_model_module_version": "1.2.0",
      "_model_name": "LayoutModel",
      "_view_count": null,
      "_view_module": "@jupyter-widgets/base",
      "_view_module_version": "1.2.0",
      "_view_name": "LayoutView",
      "align_content": null,
      "align_items": null,
      "align_self": null,
      "border": null,
      "bottom": null,
      "display": null,
      "flex": null,
      "flex_flow": null,
      "grid_area": null,
      "grid_auto_columns": null,
      "grid_auto_flow": null,
      "grid_auto_rows": null,
      "grid_column": null,
      "grid_gap": null,
      "grid_row": null,
      "grid_template_areas": null,
      "grid_template_columns": null,
      "grid_template_rows": null,
      "height": null,
      "justify_content": null,
      "justify_items": null,
      "left": null,
      "margin": null,
      "max_height": null,
      "max_width": null,
      "min_height": null,
      "min_width": null,
      "object_fit": null,
      "object_position": null,
      "order": null,
      "overflow": null,
      "overflow_x": null,
      "overflow_y": null,
      "padding": null,
      "right": null,
      "top": null,
      "visibility": null,
      "width": null
     }
    },
    "701579b731704d2ea520bbd4fafb0fc3": {
     "model_module": "@jupyter-widgets/controls",
     "model_module_version": "1.5.0",
     "model_name": "DescriptionStyleModel",
     "state": {
      "_model_module": "@jupyter-widgets/controls",
      "_model_module_version": "1.5.0",
      "_model_name": "DescriptionStyleModel",
      "_view_count": null,
      "_view_module": "@jupyter-widgets/base",
      "_view_module_version": "1.2.0",
      "_view_name": "StyleView",
      "description_width": ""
     }
    },
    "7a6afa9c66ef4515ba53532d87680297": {
     "model_module": "@jupyter-widgets/base",
     "model_module_version": "1.2.0",
     "model_name": "LayoutModel",
     "state": {
      "_model_module": "@jupyter-widgets/base",
      "_model_module_version": "1.2.0",
      "_model_name": "LayoutModel",
      "_view_count": null,
      "_view_module": "@jupyter-widgets/base",
      "_view_module_version": "1.2.0",
      "_view_name": "LayoutView",
      "align_content": null,
      "align_items": null,
      "align_self": null,
      "border": null,
      "bottom": null,
      "display": null,
      "flex": null,
      "flex_flow": null,
      "grid_area": null,
      "grid_auto_columns": null,
      "grid_auto_flow": null,
      "grid_auto_rows": null,
      "grid_column": null,
      "grid_gap": null,
      "grid_row": null,
      "grid_template_areas": null,
      "grid_template_columns": null,
      "grid_template_rows": null,
      "height": null,
      "justify_content": null,
      "justify_items": null,
      "left": null,
      "margin": null,
      "max_height": null,
      "max_width": null,
      "min_height": null,
      "min_width": null,
      "object_fit": null,
      "object_position": null,
      "order": null,
      "overflow": null,
      "overflow_x": null,
      "overflow_y": null,
      "padding": null,
      "right": null,
      "top": null,
      "visibility": null,
      "width": null
     }
    },
    "87a1ee6900b749879b2916b658ad552c": {
     "model_module": "@jupyter-widgets/controls",
     "model_module_version": "1.5.0",
     "model_name": "FloatProgressModel",
     "state": {
      "_dom_classes": [],
      "_model_module": "@jupyter-widgets/controls",
      "_model_module_version": "1.5.0",
      "_model_name": "FloatProgressModel",
      "_view_count": null,
      "_view_module": "@jupyter-widgets/controls",
      "_view_module_version": "1.5.0",
      "_view_name": "ProgressView",
      "bar_style": "success",
      "description": "",
      "description_tooltip": null,
      "layout": "IPY_MODEL_63a1d3f6d1ed493a84e71d67ae606cea",
      "max": 1,
      "min": 0,
      "orientation": "horizontal",
      "style": "IPY_MODEL_e145b08bc6cc4e9b8f457f9eaca12e3d",
      "value": 1
     }
    },
    "8fa0c708d6f841b3ae67f1e415103e0e": {
     "model_module": "@jupyter-widgets/controls",
     "model_module_version": "1.5.0",
     "model_name": "FloatProgressModel",
     "state": {
      "_dom_classes": [],
      "_model_module": "@jupyter-widgets/controls",
      "_model_module_version": "1.5.0",
      "_model_name": "FloatProgressModel",
      "_view_count": null,
      "_view_module": "@jupyter-widgets/controls",
      "_view_module_version": "1.5.0",
      "_view_name": "ProgressView",
      "bar_style": "success",
      "description": "",
      "description_tooltip": null,
      "layout": "IPY_MODEL_f31068f6b9ac46cfb1119187473b7da7",
      "max": 1,
      "min": 0,
      "orientation": "horizontal",
      "style": "IPY_MODEL_4aa9f673d7c04a79ae06a61aca6c3c1c",
      "value": 1
     }
    },
    "9cc2f9be280c417fb2f08c2e7042ef5b": {
     "model_module": "@jupyter-widgets/controls",
     "model_module_version": "1.5.0",
     "model_name": "HBoxModel",
     "state": {
      "_dom_classes": [],
      "_model_module": "@jupyter-widgets/controls",
      "_model_module_version": "1.5.0",
      "_model_name": "HBoxModel",
      "_view_count": null,
      "_view_module": "@jupyter-widgets/controls",
      "_view_module_version": "1.5.0",
      "_view_name": "HBoxView",
      "box_style": "",
      "children": [
       "IPY_MODEL_5997d442476e43b48e43a76b32b4db7d",
       "IPY_MODEL_87a1ee6900b749879b2916b658ad552c",
       "IPY_MODEL_e5dca95001c845eb9d720a3d18d39603"
      ],
      "layout": "IPY_MODEL_7a6afa9c66ef4515ba53532d87680297"
     }
    },
    "a1223dcb917d43cb96569a4d9d217950": {
     "model_module": "@jupyter-widgets/controls",
     "model_module_version": "1.5.0",
     "model_name": "DescriptionStyleModel",
     "state": {
      "_model_module": "@jupyter-widgets/controls",
      "_model_module_version": "1.5.0",
      "_model_name": "DescriptionStyleModel",
      "_view_count": null,
      "_view_module": "@jupyter-widgets/base",
      "_view_module_version": "1.2.0",
      "_view_name": "StyleView",
      "description_width": ""
     }
    },
    "a5ea5ce53d804ebfa1029fa5735409c8": {
     "model_module": "@jupyter-widgets/controls",
     "model_module_version": "1.5.0",
     "model_name": "HBoxModel",
     "state": {
      "_dom_classes": [],
      "_model_module": "@jupyter-widgets/controls",
      "_model_module_version": "1.5.0",
      "_model_name": "HBoxModel",
      "_view_count": null,
      "_view_module": "@jupyter-widgets/controls",
      "_view_module_version": "1.5.0",
      "_view_name": "HBoxView",
      "box_style": "",
      "children": [
       "IPY_MODEL_5da804a146d6477bb3d07c525fbf2b1b",
       "IPY_MODEL_8fa0c708d6f841b3ae67f1e415103e0e",
       "IPY_MODEL_00ffb51b79ec4eef9cd5b7a6bdec4645"
      ],
      "layout": "IPY_MODEL_406584d6ec1b40c99b27877a9bb069b4"
     }
    },
    "a74644b9664740eaabcb3ac954df4b66": {
     "model_module": "@jupyter-widgets/controls",
     "model_module_version": "1.5.0",
     "model_name": "DescriptionStyleModel",
     "state": {
      "_model_module": "@jupyter-widgets/controls",
      "_model_module_version": "1.5.0",
      "_model_name": "DescriptionStyleModel",
      "_view_count": null,
      "_view_module": "@jupyter-widgets/base",
      "_view_module_version": "1.2.0",
      "_view_name": "StyleView",
      "description_width": ""
     }
    },
    "aeda610fe9494cb9a73969586f6d141b": {
     "model_module": "@jupyter-widgets/controls",
     "model_module_version": "1.5.0",
     "model_name": "DescriptionStyleModel",
     "state": {
      "_model_module": "@jupyter-widgets/controls",
      "_model_module_version": "1.5.0",
      "_model_name": "DescriptionStyleModel",
      "_view_count": null,
      "_view_module": "@jupyter-widgets/base",
      "_view_module_version": "1.2.0",
      "_view_name": "StyleView",
      "description_width": ""
     }
    },
    "d57019a6190340e28b1adc7db88cfd45": {
     "model_module": "@jupyter-widgets/base",
     "model_module_version": "1.2.0",
     "model_name": "LayoutModel",
     "state": {
      "_model_module": "@jupyter-widgets/base",
      "_model_module_version": "1.2.0",
      "_model_name": "LayoutModel",
      "_view_count": null,
      "_view_module": "@jupyter-widgets/base",
      "_view_module_version": "1.2.0",
      "_view_name": "LayoutView",
      "align_content": null,
      "align_items": null,
      "align_self": null,
      "border": null,
      "bottom": null,
      "display": null,
      "flex": null,
      "flex_flow": null,
      "grid_area": null,
      "grid_auto_columns": null,
      "grid_auto_flow": null,
      "grid_auto_rows": null,
      "grid_column": null,
      "grid_gap": null,
      "grid_row": null,
      "grid_template_areas": null,
      "grid_template_columns": null,
      "grid_template_rows": null,
      "height": null,
      "justify_content": null,
      "justify_items": null,
      "left": null,
      "margin": null,
      "max_height": null,
      "max_width": null,
      "min_height": null,
      "min_width": null,
      "object_fit": null,
      "object_position": null,
      "order": null,
      "overflow": null,
      "overflow_x": null,
      "overflow_y": null,
      "padding": null,
      "right": null,
      "top": null,
      "visibility": null,
      "width": null
     }
    },
    "e145b08bc6cc4e9b8f457f9eaca12e3d": {
     "model_module": "@jupyter-widgets/controls",
     "model_module_version": "1.5.0",
     "model_name": "ProgressStyleModel",
     "state": {
      "_model_module": "@jupyter-widgets/controls",
      "_model_module_version": "1.5.0",
      "_model_name": "ProgressStyleModel",
      "_view_count": null,
      "_view_module": "@jupyter-widgets/base",
      "_view_module_version": "1.2.0",
      "_view_name": "StyleView",
      "bar_color": null,
      "description_width": ""
     }
    },
    "e5dca95001c845eb9d720a3d18d39603": {
     "model_module": "@jupyter-widgets/controls",
     "model_module_version": "1.5.0",
     "model_name": "HTMLModel",
     "state": {
      "_dom_classes": [],
      "_model_module": "@jupyter-widgets/controls",
      "_model_module_version": "1.5.0",
      "_model_name": "HTMLModel",
      "_view_count": null,
      "_view_module": "@jupyter-widgets/controls",
      "_view_module_version": "1.5.0",
      "_view_name": "HTMLView",
      "description": "",
      "description_tooltip": null,
      "layout": "IPY_MODEL_2a67998d0bc6457387e7da5b88e2e608",
      "placeholder": "​",
      "style": "IPY_MODEL_701579b731704d2ea520bbd4fafb0fc3",
      "value": " 1/1 [00:00&lt;00:00, 14.12it/s]"
     }
    },
    "f31068f6b9ac46cfb1119187473b7da7": {
     "model_module": "@jupyter-widgets/base",
     "model_module_version": "1.2.0",
     "model_name": "LayoutModel",
     "state": {
      "_model_module": "@jupyter-widgets/base",
      "_model_module_version": "1.2.0",
      "_model_name": "LayoutModel",
      "_view_count": null,
      "_view_module": "@jupyter-widgets/base",
      "_view_module_version": "1.2.0",
      "_view_name": "LayoutView",
      "align_content": null,
      "align_items": null,
      "align_self": null,
      "border": null,
      "bottom": null,
      "display": null,
      "flex": null,
      "flex_flow": null,
      "grid_area": null,
      "grid_auto_columns": null,
      "grid_auto_flow": null,
      "grid_auto_rows": null,
      "grid_column": null,
      "grid_gap": null,
      "grid_row": null,
      "grid_template_areas": null,
      "grid_template_columns": null,
      "grid_template_rows": null,
      "height": null,
      "justify_content": null,
      "justify_items": null,
      "left": null,
      "margin": null,
      "max_height": null,
      "max_width": null,
      "min_height": null,
      "min_width": null,
      "object_fit": null,
      "object_position": null,
      "order": null,
      "overflow": null,
      "overflow_x": null,
      "overflow_y": null,
      "padding": null,
      "right": null,
      "top": null,
      "visibility": null,
      "width": null
     }
    }
   }
  }
 },
 "nbformat": 4,
 "nbformat_minor": 5
}
