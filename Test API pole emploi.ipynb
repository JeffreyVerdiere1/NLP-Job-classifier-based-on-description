{
 "cells": [
  {
   "cell_type": "code",
   "execution_count": 7,
   "id": "e32ab4c6",
   "metadata": {},
   "outputs": [
    {
     "name": "stdout",
     "output_type": "stream",
     "text": [
      "Collecting api-offres-emploi\n",
      "  Downloading api_offres_emploi-0.0.1-py3-none-any.whl (9.9 kB)\n",
      "Installing collected packages: api-offres-emploi\n",
      "Successfully installed api-offres-emploi-0.0.1\n",
      "Note: you may need to restart the kernel to use updated packages.\n"
     ]
    }
   ],
   "source": [
    "pip install api-offres-emploi"
   ]
  },
  {
   "cell_type": "code",
   "execution_count": 14,
   "id": "acd4e738",
   "metadata": {},
   "outputs": [],
   "source": [
    "import pandas as pd"
   ]
  },
  {
   "cell_type": "code",
   "execution_count": 12,
   "id": "cb959bab",
   "metadata": {},
   "outputs": [],
   "source": [
    "from offres_emploi import Api\n",
    "api = Api(client_id=\"PAR_classifieurcoderome_648b0f184562333b75b959700ed6f043b9575e7cd17917d07e7e744eef920f76\", \n",
    "             client_secret=\"5fbe8c84927cb4352bd33495584b12a49d7c08d893072a88895f92c452e6368f\")"
   ]
  },
  {
   "cell_type": "code",
   "execution_count": 15,
   "id": "cce799d4",
   "metadata": {},
   "outputs": [
    {
     "name": "stdout",
     "output_type": "stream",
     "text": [
      "Making request with params {'codeROME': 'A1101'}\n"
     ]
    },
    {
     "data": {
      "text/html": [
       "<div>\n",
       "<style scoped>\n",
       "    .dataframe tbody tr th:only-of-type {\n",
       "        vertical-align: middle;\n",
       "    }\n",
       "\n",
       "    .dataframe tbody tr th {\n",
       "        vertical-align: top;\n",
       "    }\n",
       "\n",
       "    .dataframe thead th {\n",
       "        text-align: right;\n",
       "    }\n",
       "</style>\n",
       "<table border=\"1\" class=\"dataframe\">\n",
       "  <thead>\n",
       "    <tr style=\"text-align: right;\">\n",
       "      <th></th>\n",
       "      <th>id</th>\n",
       "      <th>intitule</th>\n",
       "      <th>description</th>\n",
       "      <th>dateCreation</th>\n",
       "      <th>dateActualisation</th>\n",
       "      <th>lieuTravail</th>\n",
       "      <th>romeCode</th>\n",
       "      <th>romeLibelle</th>\n",
       "      <th>appellationlibelle</th>\n",
       "      <th>entreprise</th>\n",
       "      <th>...</th>\n",
       "      <th>secteurActivite</th>\n",
       "      <th>secteurActiviteLibelle</th>\n",
       "      <th>origineOffre</th>\n",
       "      <th>offresManqueCandidats</th>\n",
       "      <th>agence</th>\n",
       "      <th>qualitesProfessionnelles</th>\n",
       "      <th>deplacementCode</th>\n",
       "      <th>deplacementLibelle</th>\n",
       "      <th>formations</th>\n",
       "      <th>complementExercice</th>\n",
       "    </tr>\n",
       "  </thead>\n",
       "  <tbody>\n",
       "    <tr>\n",
       "      <th>0</th>\n",
       "      <td>130VHWY</td>\n",
       "      <td>Chauffeur agricole Moissonneuse h/f</td>\n",
       "      <td>La CUMA des ARNAUDS, groupe d'agriculteurs à t...</td>\n",
       "      <td>2022-03-30T16:22:30.000Z</td>\n",
       "      <td>2022-03-30T16:30:21.000Z</td>\n",
       "      <td>{'libelle': '17 - REAUX SUR TREFLE', 'latitude...</td>\n",
       "      <td>A1101</td>\n",
       "      <td>Conduite d'engins agricoles et forestiers</td>\n",
       "      <td>Conducteur / Conductrice d'engins d'exploitati...</td>\n",
       "      <td>{'nom': 'CUMA LES ARNAUDS', 'entrepriseAdaptee...</td>\n",
       "      <td>...</td>\n",
       "      <td>01</td>\n",
       "      <td>Activités de soutien aux cultures</td>\n",
       "      <td>{'origine': '1', 'urlOrigine': 'https://candid...</td>\n",
       "      <td>False</td>\n",
       "      <td>NaN</td>\n",
       "      <td>NaN</td>\n",
       "      <td>NaN</td>\n",
       "      <td>NaN</td>\n",
       "      <td>NaN</td>\n",
       "      <td>NaN</td>\n",
       "    </tr>\n",
       "    <tr>\n",
       "      <th>1</th>\n",
       "      <td>130VDLH</td>\n",
       "      <td>Tractoriste  (H/F)</td>\n",
       "      <td>Rattaché(e) au chef de culture, vous aurez pou...</td>\n",
       "      <td>2022-03-30T15:40:56.000Z</td>\n",
       "      <td>2022-03-30T16:17:52.000Z</td>\n",
       "      <td>{'libelle': '33 - ST CHRISTOPHE DES BARDES', '...</td>\n",
       "      <td>A1101</td>\n",
       "      <td>Conduite d'engins agricoles et forestiers</td>\n",
       "      <td>Tractoriste agricole</td>\n",
       "      <td>{'entrepriseAdaptee': False}</td>\n",
       "      <td>...</td>\n",
       "      <td>01</td>\n",
       "      <td>Culture de la vigne</td>\n",
       "      <td>{'origine': '1', 'urlOrigine': 'https://candid...</td>\n",
       "      <td>False</td>\n",
       "      <td>{'courriel': 'Pour postuler, utiliser le lien ...</td>\n",
       "      <td>[{'libelle': 'Autonomie', 'description': 'Capa...</td>\n",
       "      <td>NaN</td>\n",
       "      <td>NaN</td>\n",
       "      <td>NaN</td>\n",
       "      <td>NaN</td>\n",
       "    </tr>\n",
       "    <tr>\n",
       "      <th>2</th>\n",
       "      <td>130VBZV</td>\n",
       "      <td>Préparateur de commandes (F/H)</td>\n",
       "      <td>Votre agence Partnaire Saint Avold, avec son é...</td>\n",
       "      <td>2022-03-30T15:22:06.000Z</td>\n",
       "      <td>2022-03-30T15:22:08.000Z</td>\n",
       "      <td>{'libelle': '57 - ST AVOLD', 'latitude': 49.12...</td>\n",
       "      <td>A1101</td>\n",
       "      <td>Conduite d'engins agricoles et forestiers</td>\n",
       "      <td>Opérateur / Opératrice d'abatteuse</td>\n",
       "      <td>{'nom': 'PARTNAIRE', 'entrepriseAdaptee': False}</td>\n",
       "      <td>...</td>\n",
       "      <td>78</td>\n",
       "      <td>Activités des agences de travail temporaire</td>\n",
       "      <td>{'origine': '1', 'urlOrigine': 'https://candid...</td>\n",
       "      <td>False</td>\n",
       "      <td>NaN</td>\n",
       "      <td>NaN</td>\n",
       "      <td>NaN</td>\n",
       "      <td>NaN</td>\n",
       "      <td>NaN</td>\n",
       "      <td>NaN</td>\n",
       "    </tr>\n",
       "    <tr>\n",
       "      <th>3</th>\n",
       "      <td>130TYSV</td>\n",
       "      <td>Tractoriste agricole</td>\n",
       "      <td>Au cœur d'une société familiale en pleine expa...</td>\n",
       "      <td>2022-03-30T14:52:57.000Z</td>\n",
       "      <td>2022-03-30T15:12:43.000Z</td>\n",
       "      <td>{'libelle': '24 - BERGERAC', 'latitude': 44.85...</td>\n",
       "      <td>A1101</td>\n",
       "      <td>Conduite d'engins agricoles et forestiers</td>\n",
       "      <td>Tractoriste agricole</td>\n",
       "      <td>{'nom': 'SAMSIC EMPLOI NOUVELLE AQUITAINE PERI...</td>\n",
       "      <td>...</td>\n",
       "      <td>78</td>\n",
       "      <td>Activités des agences de travail temporaire</td>\n",
       "      <td>{'origine': '1', 'urlOrigine': 'https://candid...</td>\n",
       "      <td>False</td>\n",
       "      <td>NaN</td>\n",
       "      <td>[{'libelle': 'Travail en équipe', 'description...</td>\n",
       "      <td>NaN</td>\n",
       "      <td>NaN</td>\n",
       "      <td>NaN</td>\n",
       "      <td>NaN</td>\n",
       "    </tr>\n",
       "    <tr>\n",
       "      <th>4</th>\n",
       "      <td>130TVDL</td>\n",
       "      <td>Chauffeur de Tracteur Agricole (h/f)</td>\n",
       "      <td>Vous intégrer et renforcez notre équipe d'expé...</td>\n",
       "      <td>2022-03-30T13:52:14.000Z</td>\n",
       "      <td>2022-03-30T14:12:07.000Z</td>\n",
       "      <td>{'libelle': '28 - CHAMPHOL', 'latitude': 48.46...</td>\n",
       "      <td>A1101</td>\n",
       "      <td>Conduite d'engins agricoles et forestiers</td>\n",
       "      <td>Conducteur / Conductrice de tracteur</td>\n",
       "      <td>{'nom': 'KWS FRANCE', 'entrepriseAdaptee': False}</td>\n",
       "      <td>...</td>\n",
       "      <td>46</td>\n",
       "      <td>Commerce de gros (commerce interentreprises) d...</td>\n",
       "      <td>{'origine': '1', 'urlOrigine': 'https://candid...</td>\n",
       "      <td>False</td>\n",
       "      <td>NaN</td>\n",
       "      <td>[{'libelle': 'Autonomie', 'description': 'Capa...</td>\n",
       "      <td>4</td>\n",
       "      <td>Quotidiens Départemental</td>\n",
       "      <td>NaN</td>\n",
       "      <td>NaN</td>\n",
       "    </tr>\n",
       "  </tbody>\n",
       "</table>\n",
       "<p>5 rows × 37 columns</p>\n",
       "</div>"
      ],
      "text/plain": [
       "        id                               intitule  \\\n",
       "0  130VHWY    Chauffeur agricole Moissonneuse h/f   \n",
       "1  130VDLH                     Tractoriste  (H/F)   \n",
       "2  130VBZV         Préparateur de commandes (F/H)   \n",
       "3  130TYSV                   Tractoriste agricole   \n",
       "4  130TVDL  Chauffeur de Tracteur Agricole (h/f)    \n",
       "\n",
       "                                         description  \\\n",
       "0  La CUMA des ARNAUDS, groupe d'agriculteurs à t...   \n",
       "1  Rattaché(e) au chef de culture, vous aurez pou...   \n",
       "2  Votre agence Partnaire Saint Avold, avec son é...   \n",
       "3  Au cœur d'une société familiale en pleine expa...   \n",
       "4  Vous intégrer et renforcez notre équipe d'expé...   \n",
       "\n",
       "               dateCreation         dateActualisation  \\\n",
       "0  2022-03-30T16:22:30.000Z  2022-03-30T16:30:21.000Z   \n",
       "1  2022-03-30T15:40:56.000Z  2022-03-30T16:17:52.000Z   \n",
       "2  2022-03-30T15:22:06.000Z  2022-03-30T15:22:08.000Z   \n",
       "3  2022-03-30T14:52:57.000Z  2022-03-30T15:12:43.000Z   \n",
       "4  2022-03-30T13:52:14.000Z  2022-03-30T14:12:07.000Z   \n",
       "\n",
       "                                         lieuTravail romeCode  \\\n",
       "0  {'libelle': '17 - REAUX SUR TREFLE', 'latitude...    A1101   \n",
       "1  {'libelle': '33 - ST CHRISTOPHE DES BARDES', '...    A1101   \n",
       "2  {'libelle': '57 - ST AVOLD', 'latitude': 49.12...    A1101   \n",
       "3  {'libelle': '24 - BERGERAC', 'latitude': 44.85...    A1101   \n",
       "4  {'libelle': '28 - CHAMPHOL', 'latitude': 48.46...    A1101   \n",
       "\n",
       "                                 romeLibelle  \\\n",
       "0  Conduite d'engins agricoles et forestiers   \n",
       "1  Conduite d'engins agricoles et forestiers   \n",
       "2  Conduite d'engins agricoles et forestiers   \n",
       "3  Conduite d'engins agricoles et forestiers   \n",
       "4  Conduite d'engins agricoles et forestiers   \n",
       "\n",
       "                                  appellationlibelle  \\\n",
       "0  Conducteur / Conductrice d'engins d'exploitati...   \n",
       "1                               Tractoriste agricole   \n",
       "2                 Opérateur / Opératrice d'abatteuse   \n",
       "3                               Tractoriste agricole   \n",
       "4               Conducteur / Conductrice de tracteur   \n",
       "\n",
       "                                          entreprise  ... secteurActivite  \\\n",
       "0  {'nom': 'CUMA LES ARNAUDS', 'entrepriseAdaptee...  ...              01   \n",
       "1                       {'entrepriseAdaptee': False}  ...              01   \n",
       "2   {'nom': 'PARTNAIRE', 'entrepriseAdaptee': False}  ...              78   \n",
       "3  {'nom': 'SAMSIC EMPLOI NOUVELLE AQUITAINE PERI...  ...              78   \n",
       "4  {'nom': 'KWS FRANCE', 'entrepriseAdaptee': False}  ...              46   \n",
       "\n",
       "                              secteurActiviteLibelle  \\\n",
       "0                  Activités de soutien aux cultures   \n",
       "1                                Culture de la vigne   \n",
       "2        Activités des agences de travail temporaire   \n",
       "3        Activités des agences de travail temporaire   \n",
       "4  Commerce de gros (commerce interentreprises) d...   \n",
       "\n",
       "                                        origineOffre offresManqueCandidats  \\\n",
       "0  {'origine': '1', 'urlOrigine': 'https://candid...                 False   \n",
       "1  {'origine': '1', 'urlOrigine': 'https://candid...                 False   \n",
       "2  {'origine': '1', 'urlOrigine': 'https://candid...                 False   \n",
       "3  {'origine': '1', 'urlOrigine': 'https://candid...                 False   \n",
       "4  {'origine': '1', 'urlOrigine': 'https://candid...                 False   \n",
       "\n",
       "                                              agence  \\\n",
       "0                                                NaN   \n",
       "1  {'courriel': 'Pour postuler, utiliser le lien ...   \n",
       "2                                                NaN   \n",
       "3                                                NaN   \n",
       "4                                                NaN   \n",
       "\n",
       "                            qualitesProfessionnelles deplacementCode  \\\n",
       "0                                                NaN             NaN   \n",
       "1  [{'libelle': 'Autonomie', 'description': 'Capa...             NaN   \n",
       "2                                                NaN             NaN   \n",
       "3  [{'libelle': 'Travail en équipe', 'description...             NaN   \n",
       "4  [{'libelle': 'Autonomie', 'description': 'Capa...               4   \n",
       "\n",
       "         deplacementLibelle formations complementExercice  \n",
       "0                       NaN        NaN                NaN  \n",
       "1                       NaN        NaN                NaN  \n",
       "2                       NaN        NaN                NaN  \n",
       "3                       NaN        NaN                NaN  \n",
       "4  Quotidiens Départemental        NaN                NaN  \n",
       "\n",
       "[5 rows x 37 columns]"
      ]
     },
     "execution_count": 15,
     "metadata": {},
     "output_type": "execute_result"
    }
   ],
   "source": [
    "test_Chauffeur  = api.search(params = {'codeROME' : 'A1101'})\n",
    "\n",
    "filters = test_Chauffeur['filtresPossibles']\n",
    "results =  test_Chauffeur['resultats']\n",
    "content_range = test_Chauffeur['Content-Range']\n",
    "n_offers = content_range['max_results']\n",
    "\n",
    "results_df = pd.DataFrame(results)\n",
    "\n",
    "results_df.head(5)"
   ]
  },
  {
   "cell_type": "code",
   "execution_count": 16,
   "id": "08b868d6",
   "metadata": {},
   "outputs": [
    {
     "data": {
      "text/plain": [
       "'1110'"
      ]
     },
     "execution_count": 16,
     "metadata": {},
     "output_type": "execute_result"
    }
   ],
   "source": [
    "n_offers"
   ]
  },
  {
   "cell_type": "code",
   "execution_count": 21,
   "id": "5fe80a09",
   "metadata": {},
   "outputs": [
    {
     "data": {
      "text/plain": [
       "\"La CUMA des ARNAUDS, groupe d'agriculteurs à taille humaine avec un parcellaire rassemblé autour de Réaux sur Trèfle, cherche un(e) chauffeur(se) pour sa moissonneuse CASE axiale (barre de coupe 5m) sur la saison de moisson 2022. \\nPostulez avant le 20 avril 2022.\\nMissions :\\t\\n-\\tConduite autonome de Moissonneuse batteuse\\n-\\tPréparation du matériel le matin : soufflage, dépoussiérage, graissage.\\n\\nDate :\\tDébut entre le 15/6 et le 30/6 selon la maturité\""
      ]
     },
     "execution_count": 21,
     "metadata": {},
     "output_type": "execute_result"
    }
   ],
   "source": [
    "results_df['description'][0]"
   ]
  },
  {
   "cell_type": "code",
   "execution_count": 22,
   "id": "4bcef335",
   "metadata": {},
   "outputs": [
    {
     "data": {
      "text/plain": [
       "\"Vous intégrer et renforcez notre équipe d'expérimentation déjà en place.\\n  \\nVous interviendrez sur les missions suivantes :\\n- Réaliser les travaux de Conduite de tracteur :  semis, binage, castration mécanique et récolte.\\n- Assister l'équipe ponctuellement sur les activités .\\n- Respecter et appliquer les règles d'hygiène et de sécurité en vigueur.\\n- Informer quotidiennement votre supérieur hiérarchique des opérations en cours.\\n\\n Votre profil:\\n- Vous possédez de solides connaissances en conduite d'engins agricoles (tracteurs, télescopic, moissonneuse batteuse, Bourgoin).\\n- Le Permis C est un réel atout \\n- Vous vous montrez disponible, vous pourriez être amené à travailler les week-end .\\n- Idéalement, vous avez une expérience des barres d'autoguidage ainsi que des connaissances et compétences en mécanique de base afin de participer à l'entretien des engins.\\n\\nRecrutement dès que possible.\\n\""
      ]
     },
     "execution_count": 22,
     "metadata": {},
     "output_type": "execute_result"
    }
   ],
   "source": [
    "results_df['description'][4]"
   ]
  },
  {
   "cell_type": "code",
   "execution_count": null,
   "id": "02f061ea",
   "metadata": {},
   "outputs": [],
   "source": []
  }
 ],
 "metadata": {
  "kernelspec": {
   "display_name": "Python 3",
   "language": "python",
   "name": "python3"
  },
  "language_info": {
   "codemirror_mode": {
    "name": "ipython",
    "version": 3
   },
   "file_extension": ".py",
   "mimetype": "text/x-python",
   "name": "python",
   "nbconvert_exporter": "python",
   "pygments_lexer": "ipython3",
   "version": "3.8.8"
  }
 },
 "nbformat": 4,
 "nbformat_minor": 5
}
