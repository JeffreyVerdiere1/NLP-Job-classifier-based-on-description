{
 "cells": [
  {
   "cell_type": "code",
   "execution_count": 7,
   "id": "428b3224",
   "metadata": {},
   "outputs": [
    {
     "name": "stdout",
     "output_type": "stream",
     "text": [
      "Collecting api-offres-emploi\n",
      "  Downloading api_offres_emploi-0.0.1-py3-none-any.whl (9.9 kB)\n",
      "Installing collected packages: api-offres-emploi\n",
      "Successfully installed api-offres-emploi-0.0.1\n",
      "Note: you may need to restart the kernel to use updated packages.\n"
     ]
    }
   ],
   "source": [
    "pip install api-offres-emploi"
   ]
  },
  {
   "cell_type": "code",
   "execution_count": 1,
   "id": "335bb2cd",
   "metadata": {},
   "outputs": [],
   "source": [
    "import requests\n",
    "import pandas as pd"
   ]
  },
  {
   "cell_type": "code",
   "execution_count": 6,
   "id": "24538d62",
   "metadata": {},
   "outputs": [
    {
     "data": {
      "text/plain": [
       "{'error_description': 'Required Method: POST found: GET',\n",
       " 'error': 'method_not_allowed'}"
      ]
     },
     "execution_count": 6,
     "metadata": {},
     "output_type": "execute_result"
    }
   ],
   "source": [
    "req = requests.get('https://entreprise.pole-emploi.fr/connexion/oauth2/access_token')\n",
    "\n",
    "wb = req.json()\n",
    "wb\n",
    "#wb = pd.json_normalize(wb[1])\n",
    "#wb.head(5)"
   ]
  },
  {
   "cell_type": "code",
   "execution_count": null,
   "id": "81310983",
   "metadata": {},
   "outputs": [],
   "source": []
  }
 ],
 "metadata": {
  "kernelspec": {
   "display_name": "Python 3",
   "language": "python",
   "name": "python3"
  },
  "language_info": {
   "codemirror_mode": {
    "name": "ipython",
    "version": 3
   },
   "file_extension": ".py",
   "mimetype": "text/x-python",
   "name": "python",
   "nbconvert_exporter": "python",
   "pygments_lexer": "ipython3",
   "version": "3.8.8"
  }
 },
 "nbformat": 4,
 "nbformat_minor": 5
}
