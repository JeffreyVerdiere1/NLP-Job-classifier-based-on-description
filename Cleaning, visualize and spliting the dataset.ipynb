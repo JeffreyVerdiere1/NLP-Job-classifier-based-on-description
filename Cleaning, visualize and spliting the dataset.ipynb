{
 "cells": [
  {
   "cell_type": "code",
   "execution_count": 1,
   "id": "0e3ca52b",
   "metadata": {},
   "outputs": [],
   "source": [
    "import pandas as pd\n",
    "import numpy as np"
   ]
  },
  {
   "cell_type": "code",
   "execution_count": 2,
   "id": "8e1ac533",
   "metadata": {},
   "outputs": [],
   "source": [
    "df_main = pd.read_csv('Textual_description.csv')"
   ]
  },
  {
   "cell_type": "markdown",
   "id": "1eaa0328",
   "metadata": {},
   "source": [
    "## Cleaning"
   ]
  },
  {
   "cell_type": "code",
   "execution_count": 3,
   "id": "f1978eab",
   "metadata": {},
   "outputs": [
    {
     "data": {
      "text/html": [
       "<div>\n",
       "<style scoped>\n",
       "    .dataframe tbody tr th:only-of-type {\n",
       "        vertical-align: middle;\n",
       "    }\n",
       "\n",
       "    .dataframe tbody tr th {\n",
       "        vertical-align: top;\n",
       "    }\n",
       "\n",
       "    .dataframe thead th {\n",
       "        text-align: right;\n",
       "    }\n",
       "</style>\n",
       "<table border=\"1\" class=\"dataframe\">\n",
       "  <thead>\n",
       "    <tr style=\"text-align: right;\">\n",
       "      <th></th>\n",
       "      <th>textual description</th>\n",
       "      <th>code_rome</th>\n",
       "      <th>categorie</th>\n",
       "      <th>sub_categorie</th>\n",
       "      <th>sub_sub_categorie</th>\n",
       "      <th>name</th>\n",
       "    </tr>\n",
       "  </thead>\n",
       "  <tbody>\n",
       "    <tr>\n",
       "      <th>0</th>\n",
       "      <td>La CUMA des ARNAUDS, groupe d'agriculteurs à t...</td>\n",
       "      <td>A1101</td>\n",
       "      <td>A</td>\n",
       "      <td>11</td>\n",
       "      <td>1</td>\n",
       "      <td>Conduite d'engins agricoles et forestiers</td>\n",
       "    </tr>\n",
       "    <tr>\n",
       "      <th>1</th>\n",
       "      <td>Rattaché(e) au chef de culture, vous aurez pou...</td>\n",
       "      <td>A1101</td>\n",
       "      <td>A</td>\n",
       "      <td>11</td>\n",
       "      <td>1</td>\n",
       "      <td>Conduite d'engins agricoles et forestiers</td>\n",
       "    </tr>\n",
       "    <tr>\n",
       "      <th>2</th>\n",
       "      <td>Votre agence Partnaire Saint Avold, avec son é...</td>\n",
       "      <td>A1101</td>\n",
       "      <td>A</td>\n",
       "      <td>11</td>\n",
       "      <td>1</td>\n",
       "      <td>Conduite d'engins agricoles et forestiers</td>\n",
       "    </tr>\n",
       "  </tbody>\n",
       "</table>\n",
       "</div>"
      ],
      "text/plain": [
       "                                 textual description code_rome categorie  \\\n",
       "0  La CUMA des ARNAUDS, groupe d'agriculteurs à t...     A1101         A   \n",
       "1  Rattaché(e) au chef de culture, vous aurez pou...     A1101         A   \n",
       "2  Votre agence Partnaire Saint Avold, avec son é...     A1101         A   \n",
       "\n",
       "   sub_categorie  sub_sub_categorie                                       name  \n",
       "0             11                  1  Conduite d'engins agricoles et forestiers  \n",
       "1             11                  1  Conduite d'engins agricoles et forestiers  \n",
       "2             11                  1  Conduite d'engins agricoles et forestiers  "
      ]
     },
     "execution_count": 3,
     "metadata": {},
     "output_type": "execute_result"
    }
   ],
   "source": [
    "df_main.head(3)"
   ]
  },
  {
   "cell_type": "code",
   "execution_count": 4,
   "id": "bcfc6cf6",
   "metadata": {},
   "outputs": [
    {
     "data": {
      "text/plain": [
       "\"La CUMA des ARNAUDS, groupe d'agriculteurs à taille humaine avec un parcellaire rassemblé autour de Réaux sur Trèfle, cherche un(e) chauffeur(se) pour sa moissonneuse CASE axiale (barre de coupe 5m) sur la saison de moisson 2022. \\nPostulez avant le 20 avril 2022.\\nMissions :\\t\\n-\\tConduite autonome de Moissonneuse batteuse\\n-\\tPréparation du matériel le matin : soufflage, dépoussiérage, graissage.\\n\\nDate :\\tDébut entre le 15/6 et le 30/6 selon la maturité\""
      ]
     },
     "execution_count": 4,
     "metadata": {},
     "output_type": "execute_result"
    }
   ],
   "source": [
    "df_main.iloc[0][\"textual description\"]"
   ]
  },
  {
   "cell_type": "code",
   "execution_count": 5,
   "id": "6738199e",
   "metadata": {},
   "outputs": [],
   "source": [
    "test = df_main.iloc[0][\"textual description\"]\n",
    "\n",
    "def f(string):\n",
    "    string = string.replace('\\n', ' ').replace('\\t', ' ').replace('  ', '')\n",
    "    return string\n",
    "            "
   ]
  },
  {
   "cell_type": "code",
   "execution_count": 6,
   "id": "5ef401d7",
   "metadata": {},
   "outputs": [
    {
     "data": {
      "text/plain": [
       "\"La CUMA des ARNAUDS, groupe d'agriculteurs à taille humaine avec un parcellaire rassemblé autour de Réaux sur Trèfle, cherche un(e) chauffeur(se) pour sa moissonneuse CASE axiale (barre de coupe 5m) sur la saison de moisson 2022.Postulez avant le 20 avril 2022. Missions :- Conduite autonome de Moissonneuse batteuse - Préparation du matériel le matin : soufflage, dépoussiérage, graissage.Date : Début entre le 15/6 et le 30/6 selon la maturité\""
      ]
     },
     "execution_count": 6,
     "metadata": {},
     "output_type": "execute_result"
    }
   ],
   "source": [
    "f(test)"
   ]
  },
  {
   "cell_type": "code",
   "execution_count": 7,
   "id": "0eeaa5b7",
   "metadata": {},
   "outputs": [
    {
     "data": {
      "text/plain": [
       "\"La CUMA des ARNAUDS, groupe d'agriculteurs à taille humaine avec un parcellaire rassemblé autour de Réaux sur Trèfle, cherche un(e) chauffeur(se) pour sa moissonneuse CASE axiale (barre de coupe 5m) sur la saison de moisson 2022.Postulez avant le 20 avril 2022. Missions :- Conduite autonome de Moissonneuse batteuse - Préparation du matériel le matin : soufflage, dépoussiérage, graissage.Date : Début entre le 15/6 et le 30/6 selon la maturité\""
      ]
     },
     "execution_count": 7,
     "metadata": {},
     "output_type": "execute_result"
    }
   ],
   "source": [
    "(lambda x: x.replace('\\n', ' ').replace('\\t', ' ').replace('  ', ''))(test)"
   ]
  },
  {
   "cell_type": "code",
   "execution_count": 8,
   "id": "a558bbe5",
   "metadata": {},
   "outputs": [],
   "source": [
    "df_main['textual description']  = df_main['textual description'].apply(lambda x: x.replace('\\n', ' ').replace('\\t', ' ').replace('  ', ''))"
   ]
  },
  {
   "cell_type": "code",
   "execution_count": 9,
   "id": "e8823b73",
   "metadata": {},
   "outputs": [
    {
     "name": "stdout",
     "output_type": "stream",
     "text": [
      "Horticulture et maraîchage\n"
     ]
    },
    {
     "data": {
      "text/plain": [
       "\"Envie de travailler en plein air Nous recherchons pour l'un de nos clients un agent pépiniériste H/F.\\xa0 \\xa0 * Assurer les travaux de productions de plantes (rempotage, plaçage, taille, désherbage, suivi des irrigations, protection des cultures etc) * Préparer les plantes en vue de la commercialisation ( choix sur les aires de cultures jusqu'à l'expédition chez les clients)\\xa0 * Assurer le respect des consignes \\xa0 Ce poste est à pourvoir en CDI dès que possible, en horaire de journée. \\xa0 Selon la grille conventionnelle de l'entreprise et votre expérience, la rémunération peut varier.Vous avez une expérience confirmée dans le domaine de l'horticulture et/ou une expérience sur un poste similaire Vous savez faire preuve d'autonomie et vous avez le sens de l'observation.\\xa0 Vous êtes apprécié.es pour votre rigueur et votre implication au travail. \\xa0 Vous aimez le travail d'équipe Vous êtes alors prêt.e à rejoindre notre Atrihomsphère\\xa0! C'est le moment de faire valoir vos Richesses Humaines... cliquez pour postuler et rejoindre l'aventure ATRIHOM\\xa0!\""
      ]
     },
     "execution_count": 9,
     "metadata": {},
     "output_type": "execute_result"
    }
   ],
   "source": [
    "idx = np.random.randint(len(df_main))\n",
    "print(df_main.iloc[idx][\"name\"])\n",
    "df_main.iloc[idx][\"textual description\"]"
   ]
  },
  {
   "cell_type": "markdown",
   "id": "0dd713f5",
   "metadata": {},
   "source": [
    "## Visualize"
   ]
  },
  {
   "cell_type": "markdown",
   "id": "7250055e",
   "metadata": {},
   "source": [
    "**Length of textual description overall and by categories**"
   ]
  },
  {
   "cell_type": "code",
   "execution_count": 18,
   "id": "b694d44a",
   "metadata": {},
   "outputs": [
    {
     "name": "stdout",
     "output_type": "stream",
     "text": [
      "longueur moyenne :  1341.5061178224278\n"
     ]
    },
    {
     "data": {
      "text/plain": [
       "<AxesSubplot:>"
      ]
     },
     "execution_count": 18,
     "metadata": {},
     "output_type": "execute_result"
    },
    {
     "data": {
      "image/png": "[encoded data removed]",
      "text/plain": [
       "<Figure size 432x288 with 1 Axes>"
      ]
     },
     "metadata": {
      "needs_background": "light"
     },
     "output_type": "display_data"
    }
   ],
   "source": [
    "df_main['text_length'] = df_main[\"textual description\"].apply(len)\n",
    "\n",
    "\n",
    "print(\"Mean length : \", df_main['text_length'].mean())\n",
    "df_main[\"text_length\"].hist(bins = 30)"
   ]
  },
  {
   "cell_type": "code",
   "execution_count": 27,
   "id": "a6e5d775",
   "metadata": {},
   "outputs": [
    {
     "name": "stdout",
     "output_type": "stream",
     "text": [
      "Mean length :  1341.5061178224278\n"
     ]
    },
    {
     "data": {
      "text/plain": [
       "array([[<AxesSubplot:title={'center':'A'}>,\n",
       "        <AxesSubplot:title={'center':'B'}>,\n",
       "        <AxesSubplot:title={'center':'C'}>,\n",
       "        <AxesSubplot:title={'center':'D'}>],\n",
       "       [<AxesSubplot:title={'center':'E'}>,\n",
       "        <AxesSubplot:title={'center':'F'}>,\n",
       "        <AxesSubplot:title={'center':'G'}>,\n",
       "        <AxesSubplot:title={'center':'H'}>],\n",
       "       [<AxesSubplot:title={'center':'I'}>,\n",
       "        <AxesSubplot:title={'center':'J'}>,\n",
       "        <AxesSubplot:title={'center':'K'}>,\n",
       "        <AxesSubplot:title={'center':'L'}>],\n",
       "       [<AxesSubplot:title={'center':'M'}>,\n",
       "        <AxesSubplot:title={'center':'N'}>, <AxesSubplot:>,\n",
       "        <AxesSubplot:>]], dtype=object)"
      ]
     },
     "execution_count": 27,
     "metadata": {},
     "output_type": "execute_result"
    },
    {
     "data": {
      "image/png": "[encoded data removed]",
      "text/plain": [
       "<Figure size 864x648 with 16 Axes>"
      ]
     },
     "metadata": {
      "needs_background": "light"
     },
     "output_type": "display_data"
    }
   ],
   "source": [
    "print(\"Mean length : \", df_main['text_length'].mean())\n",
    "df_main[\"text_length\"].hist(bins = 30, by = df_main[\"categorie\"], figsize = (12,9))"
   ]
  },
  {
   "cell_type": "markdown",
   "id": "ac005816",
   "metadata": {},
   "source": [
    "**Repartion between the different categories**"
   ]
  },
  {
   "cell_type": "code",
   "execution_count": 40,
   "id": "2433f94d",
   "metadata": {},
   "outputs": [
    {
     "name": "stdout",
     "output_type": "stream",
     "text": [
      "categorie\n",
      "A     3367\n",
      "B      891\n",
      "C     3143\n",
      "D     5399\n",
      "E     2526\n",
      "F     5606\n",
      "G     4308\n",
      "H    11387\n",
      "I     4062\n",
      "J     4416\n",
      "K     8412\n",
      "L      967\n",
      "M     6259\n",
      "N     3659\n",
      "Name: textual description, dtype: int64\n"
     ]
    },
    {
     "data": {
      "text/plain": [
       "<AxesSubplot:>"
      ]
     },
     "execution_count": 40,
     "metadata": {},
     "output_type": "execute_result"
    },
    {
     "data": {
      "image/png": "[encoded data removed]",
      "text/plain": [
       "<Figure size 720x504 with 1 Axes>"
      ]
     },
     "metadata": {
      "needs_background": "light"
     },
     "output_type": "display_data"
    }
   ],
   "source": [
    "print(df_main.groupby(\"categorie\").count()[\"textual description\"])\n",
    "df_main[\"categorie\"].hist(bins = 28, grid = False, figsize = (10,7))\n"
   ]
  },
  {
   "cell_type": "markdown",
   "id": "bf5ff170",
   "metadata": {},
   "source": [
    "## Splitting the dataset"
   ]
  },
  {
   "cell_type": "code",
   "execution_count": 41,
   "id": "86cb4c96",
   "metadata": {},
   "outputs": [],
   "source": [
    "from sklearn.model_selection import train_test_split\n"
   ]
  },
  {
   "cell_type": "code",
   "execution_count": 44,
   "id": "ddc858d5",
   "metadata": {},
   "outputs": [],
   "source": [
    "df_train, df_test= train_test_split(df_main, test_size=0.2, random_state=1, shuffle = True)\n",
    "\n",
    "df_train, df_val= train_test_split(df_train, test_size=0.25, random_state=1, shuffle = True) #0.25*0.8 = 0.2"
   ]
  },
  {
   "cell_type": "code",
   "execution_count": 45,
   "id": "19349204",
   "metadata": {},
   "outputs": [],
   "source": [
    "df_train.to_csv('train_dataset.csv',index=False)\n",
    "df_val.to_csv('val_dataset.csv',index=False)\n",
    "df_test.to_csv('test_dataset.csv',index=False)"
   ]
  }
 ],
 "metadata": {
  "kernelspec": {
   "display_name": "Python 3",
   "language": "python",
   "name": "python3"
  },
  "language_info": {
   "codemirror_mode": {
    "name": "ipython",
    "version": 3
   },
   "file_extension": ".py",
   "mimetype": "text/x-python",
   "name": "python",
   "nbconvert_exporter": "python",
   "pygments_lexer": "ipython3",
   "version": "3.8.8"
  }
 },
 "nbformat": 4,
 "nbformat_minor": 5
}
