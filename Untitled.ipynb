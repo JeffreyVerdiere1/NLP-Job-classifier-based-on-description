{
 "cells": [
  {
   "cell_type": "code",
   "execution_count": 61,
   "id": "58586dda",
   "metadata": {},
   "outputs": [
    {
     "name": "stderr",
     "output_type": "stream",
     "text": [
      "Using custom data configuration oscarfossey--NLP_Pole_emploi-b903082173a3c67b\n",
      "Reusing dataset csv (C:\\Users\\Oscar\\.cache\\huggingface\\datasets\\csv\\oscarfossey--NLP_Pole_emploi-b903082173a3c67b\\0.0.0\\433e0ccc46f9880962cc2b12065189766fbb2bee57a221866138fb9203c83519)\n"
     ]
    },
    {
     "data": {
      "application/vnd.jupyter.widget-view+json": {
       "model_id": "bfda810f5b30447d971256a2c2f3feb2",
       "version_major": 2,
       "version_minor": 0
      },
      "text/plain": [
       "  0%|          | 0/2 [00:00<?, ?it/s]"
      ]
     },
     "metadata": {},
     "output_type": "display_data"
    }
   ],
   "source": [
    "from datasets import load_dataset\n",
    "\n",
    "dataset = load_dataset(\"oscarfossey/NLP_Pole_emploi\")"
   ]
  },
  {
   "cell_type": "code",
   "execution_count": 56,
   "id": "0aa327a4",
   "metadata": {},
   "outputs": [],
   "source": [
    "df_train_2 = pd.DataFrame(dataset['train'])"
   ]
  },
  {
   "cell_type": "code",
   "execution_count": 57,
   "id": "b3f1f240",
   "metadata": {},
   "outputs": [
    {
     "data": {
      "text/html": [
       "<div>\n",
       "<style scoped>\n",
       "    .dataframe tbody tr th:only-of-type {\n",
       "        vertical-align: middle;\n",
       "    }\n",
       "\n",
       "    .dataframe tbody tr th {\n",
       "        vertical-align: top;\n",
       "    }\n",
       "\n",
       "    .dataframe thead th {\n",
       "        text-align: right;\n",
       "    }\n",
       "</style>\n",
       "<table border=\"1\" class=\"dataframe\">\n",
       "  <thead>\n",
       "    <tr style=\"text-align: right;\">\n",
       "      <th></th>\n",
       "      <th>textual description</th>\n",
       "      <th>code_rome</th>\n",
       "      <th>categorie</th>\n",
       "      <th>sub_categorie</th>\n",
       "      <th>sub_sub_categorie</th>\n",
       "      <th>name</th>\n",
       "      <th>text_length</th>\n",
       "    </tr>\n",
       "  </thead>\n",
       "  <tbody>\n",
       "    <tr>\n",
       "      <th>0</th>\n",
       "      <td>Nous recherchons pour le compte de notre clien...</td>\n",
       "      <td>I1305</td>\n",
       "      <td>I</td>\n",
       "      <td>13</td>\n",
       "      <td>5</td>\n",
       "      <td>Installation et maintenance électronique</td>\n",
       "      <td>304</td>\n",
       "    </tr>\n",
       "    <tr>\n",
       "      <th>1</th>\n",
       "      <td>Vous aurez en charge de superviser une équipe ...</td>\n",
       "      <td>N3103</td>\n",
       "      <td>N</td>\n",
       "      <td>31</td>\n",
       "      <td>3</td>\n",
       "      <td>Navigation fluviale</td>\n",
       "      <td>3214</td>\n",
       "    </tr>\n",
       "    <tr>\n",
       "      <th>2</th>\n",
       "      <td>L'Association des PEP 71 Recrute pour l'IME Or...</td>\n",
       "      <td>K1305</td>\n",
       "      <td>K</td>\n",
       "      <td>13</td>\n",
       "      <td>5</td>\n",
       "      <td>Intervention sociale et familiale</td>\n",
       "      <td>3124</td>\n",
       "    </tr>\n",
       "    <tr>\n",
       "      <th>3</th>\n",
       "      <td>CONTRAT DE FORMATION EN ALTERNANCE Groupe Alte...</td>\n",
       "      <td>G1302</td>\n",
       "      <td>G</td>\n",
       "      <td>13</td>\n",
       "      <td>2</td>\n",
       "      <td>Optimisation de produits touristiques</td>\n",
       "      <td>1559</td>\n",
       "    </tr>\n",
       "    <tr>\n",
       "      <th>4</th>\n",
       "      <td>Trajectoires Conseils et Carrières, cabinet de...</td>\n",
       "      <td>H2505</td>\n",
       "      <td>H</td>\n",
       "      <td>25</td>\n",
       "      <td>5</td>\n",
       "      <td>Encadrement d'équipe ou d'atelier en matériaux...</td>\n",
       "      <td>1294</td>\n",
       "    </tr>\n",
       "  </tbody>\n",
       "</table>\n",
       "</div>"
      ],
      "text/plain": [
       "                                 textual description code_rome categorie  \\\n",
       "0  Nous recherchons pour le compte de notre clien...     I1305         I   \n",
       "1  Vous aurez en charge de superviser une équipe ...     N3103         N   \n",
       "2  L'Association des PEP 71 Recrute pour l'IME Or...     K1305         K   \n",
       "3  CONTRAT DE FORMATION EN ALTERNANCE Groupe Alte...     G1302         G   \n",
       "4  Trajectoires Conseils et Carrières, cabinet de...     H2505         H   \n",
       "\n",
       "   sub_categorie  sub_sub_categorie  \\\n",
       "0             13                  5   \n",
       "1             31                  3   \n",
       "2             13                  5   \n",
       "3             13                  2   \n",
       "4             25                  5   \n",
       "\n",
       "                                                name  text_length  \n",
       "0           Installation et maintenance électronique          304  \n",
       "1                                Navigation fluviale         3214  \n",
       "2                  Intervention sociale et familiale         3124  \n",
       "3              Optimisation de produits touristiques         1559  \n",
       "4  Encadrement d'équipe ou d'atelier en matériaux...         1294  "
      ]
     },
     "execution_count": 57,
     "metadata": {},
     "output_type": "execute_result"
    }
   ],
   "source": [
    "df_train_2.head()"
   ]
  },
  {
   "cell_type": "code",
   "execution_count": 58,
   "id": "d335820c",
   "metadata": {},
   "outputs": [
    {
     "data": {
      "text/plain": [
       "DatasetDict({\n",
       "    train: Dataset({\n",
       "        features: ['textual description', 'code_rome', 'categorie', 'sub_categorie', 'sub_sub_categorie', 'name', 'text_length'],\n",
       "        num_rows: 38640\n",
       "    })\n",
       "    test: Dataset({\n",
       "        features: ['textual description', 'code_rome', 'categorie', 'sub_categorie', 'sub_sub_categorie', 'name', 'text_length'],\n",
       "        num_rows: 12881\n",
       "    })\n",
       "})"
      ]
     },
     "execution_count": 58,
     "metadata": {},
     "output_type": "execute_result"
    }
   ],
   "source": [
    "dataset"
   ]
  },
  {
   "cell_type": "code",
   "execution_count": 48,
   "id": "b53cbb4e",
   "metadata": {},
   "outputs": [
    {
     "name": "stderr",
     "output_type": "stream",
     "text": [
      "Using custom data configuration oscarfossey--NLP_Pole_emploi-11e9f42e4d8dea50\n",
      "Reusing dataset csv (C:\\Users\\Oscar\\.cache\\huggingface\\datasets\\csv\\oscarfossey--NLP_Pole_emploi-11e9f42e4d8dea50\\0.0.0\\433e0ccc46f9880962cc2b12065189766fbb2bee57a221866138fb9203c83519)\n"
     ]
    },
    {
     "data": {
      "application/vnd.jupyter.widget-view+json": {
       "model_id": "be06c29dca5b4518b9e5932db978237a",
       "version_major": 2,
       "version_minor": 0
      },
      "text/plain": [
       "  0%|          | 0/1 [00:00<?, ?it/s]"
      ]
     },
     "metadata": {},
     "output_type": "display_data"
    }
   ],
   "source": [
    "dataset_train = load_dataset(\"oscarfossey/NLP_Pole_emploi\", data_files='train_dataset.csv')"
   ]
  },
  {
   "cell_type": "code",
   "execution_count": 6,
   "id": "1c38a542",
   "metadata": {},
   "outputs": [],
   "source": [
    "import pandas as pd"
   ]
  },
  {
   "cell_type": "code",
   "execution_count": 52,
   "id": "39cf3024",
   "metadata": {},
   "outputs": [],
   "source": [
    "df_train = pd.DataFrame(dataset_train['train'])"
   ]
  },
  {
   "cell_type": "code",
   "execution_count": 54,
   "id": "6c7d8b02",
   "metadata": {},
   "outputs": [
    {
     "data": {
      "text/html": [
       "<div>\n",
       "<style scoped>\n",
       "    .dataframe tbody tr th:only-of-type {\n",
       "        vertical-align: middle;\n",
       "    }\n",
       "\n",
       "    .dataframe tbody tr th {\n",
       "        vertical-align: top;\n",
       "    }\n",
       "\n",
       "    .dataframe thead th {\n",
       "        text-align: right;\n",
       "    }\n",
       "</style>\n",
       "<table border=\"1\" class=\"dataframe\">\n",
       "  <thead>\n",
       "    <tr style=\"text-align: right;\">\n",
       "      <th></th>\n",
       "      <th>textual description</th>\n",
       "      <th>code_rome</th>\n",
       "      <th>categorie</th>\n",
       "      <th>sub_categorie</th>\n",
       "      <th>sub_sub_categorie</th>\n",
       "      <th>name</th>\n",
       "      <th>text_length</th>\n",
       "    </tr>\n",
       "  </thead>\n",
       "  <tbody>\n",
       "    <tr>\n",
       "      <th>0</th>\n",
       "      <td>Nous recherchons pour le compte de notre clien...</td>\n",
       "      <td>I1305</td>\n",
       "      <td>I</td>\n",
       "      <td>13</td>\n",
       "      <td>5</td>\n",
       "      <td>Installation et maintenance électronique</td>\n",
       "      <td>304</td>\n",
       "    </tr>\n",
       "    <tr>\n",
       "      <th>1</th>\n",
       "      <td>Vous aurez en charge de superviser une équipe ...</td>\n",
       "      <td>N3103</td>\n",
       "      <td>N</td>\n",
       "      <td>31</td>\n",
       "      <td>3</td>\n",
       "      <td>Navigation fluviale</td>\n",
       "      <td>3214</td>\n",
       "    </tr>\n",
       "    <tr>\n",
       "      <th>2</th>\n",
       "      <td>L'Association des PEP 71 Recrute pour l'IME Or...</td>\n",
       "      <td>K1305</td>\n",
       "      <td>K</td>\n",
       "      <td>13</td>\n",
       "      <td>5</td>\n",
       "      <td>Intervention sociale et familiale</td>\n",
       "      <td>3124</td>\n",
       "    </tr>\n",
       "    <tr>\n",
       "      <th>3</th>\n",
       "      <td>CONTRAT DE FORMATION EN ALTERNANCE Groupe Alte...</td>\n",
       "      <td>G1302</td>\n",
       "      <td>G</td>\n",
       "      <td>13</td>\n",
       "      <td>2</td>\n",
       "      <td>Optimisation de produits touristiques</td>\n",
       "      <td>1559</td>\n",
       "    </tr>\n",
       "    <tr>\n",
       "      <th>4</th>\n",
       "      <td>Trajectoires Conseils et Carrières, cabinet de...</td>\n",
       "      <td>H2505</td>\n",
       "      <td>H</td>\n",
       "      <td>25</td>\n",
       "      <td>5</td>\n",
       "      <td>Encadrement d'équipe ou d'atelier en matériaux...</td>\n",
       "      <td>1294</td>\n",
       "    </tr>\n",
       "  </tbody>\n",
       "</table>\n",
       "</div>"
      ],
      "text/plain": [
       "                                 textual description code_rome categorie  \\\n",
       "0  Nous recherchons pour le compte de notre clien...     I1305         I   \n",
       "1  Vous aurez en charge de superviser une équipe ...     N3103         N   \n",
       "2  L'Association des PEP 71 Recrute pour l'IME Or...     K1305         K   \n",
       "3  CONTRAT DE FORMATION EN ALTERNANCE Groupe Alte...     G1302         G   \n",
       "4  Trajectoires Conseils et Carrières, cabinet de...     H2505         H   \n",
       "\n",
       "   sub_categorie  sub_sub_categorie  \\\n",
       "0             13                  5   \n",
       "1             31                  3   \n",
       "2             13                  5   \n",
       "3             13                  2   \n",
       "4             25                  5   \n",
       "\n",
       "                                                name  text_length  \n",
       "0           Installation et maintenance électronique          304  \n",
       "1                                Navigation fluviale         3214  \n",
       "2                  Intervention sociale et familiale         3124  \n",
       "3              Optimisation de produits touristiques         1559  \n",
       "4  Encadrement d'équipe ou d'atelier en matériaux...         1294  "
      ]
     },
     "execution_count": 54,
     "metadata": {},
     "output_type": "execute_result"
    }
   ],
   "source": [
    "df_train.head()"
   ]
  },
  {
   "cell_type": "code",
   "execution_count": null,
   "id": "f2a9b21d",
   "metadata": {},
   "outputs": [],
   "source": []
  }
 ],
 "metadata": {
  "kernelspec": {
   "display_name": "Python 3",
   "language": "python",
   "name": "python3"
  },
  "language_info": {
   "codemirror_mode": {
    "name": "ipython",
    "version": 3
   },
   "file_extension": ".py",
   "mimetype": "text/x-python",
   "name": "python",
   "nbconvert_exporter": "python",
   "pygments_lexer": "ipython3",
   "version": "3.8.8"
  }
 },
 "nbformat": 4,
 "nbformat_minor": 5
}
