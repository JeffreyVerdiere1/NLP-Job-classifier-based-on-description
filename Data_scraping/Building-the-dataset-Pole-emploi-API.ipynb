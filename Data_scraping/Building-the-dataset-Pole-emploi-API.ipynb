{
 "cells": [
  {
   "cell_type": "markdown",
   "id": "bf490d9e",
   "metadata": {},
   "source": [
    "# Setting up Pôle emploie API"
   ]
  },
  {
   "cell_type": "markdown",
   "id": "35637134",
   "metadata": {},
   "source": [
    "## Importing useful tools, librairies.."
   ]
  },
  {
   "cell_type": "code",
   "execution_count": 1,
   "id": "06a4af41",
   "metadata": {},
   "outputs": [
    {
     "name": "stdout",
     "output_type": "stream",
     "text": [
      "Requirement already satisfied: api-offres-emploi in d:\\logiciel\\anaconda\\lib\\site-packages (0.0.1)\n",
      "Note: you may need to restart the kernel to use updated packages.\n"
     ]
    }
   ],
   "source": [
    "pip install api-offres-emploi"
   ]
  },
  {
   "cell_type": "code",
   "execution_count": 2,
   "id": "058fdc7c",
   "metadata": {},
   "outputs": [],
   "source": [
    "import pandas as pd\n",
    "from tqdm.notebook import trange, tqdm\n",
    "import time\n",
    "from datasets import load_dataset\n",
    "import sys, os"
   ]
  },
  {
   "cell_type": "code",
   "execution_count": 3,
   "id": "cbeba414",
   "metadata": {},
   "outputs": [],
   "source": [
    "class HiddenPrints:\n",
    "    def __enter__(self):\n",
    "        self._original_stdout = sys.stdout\n",
    "        sys.stdout = open(os.devnull, 'w')\n",
    "\n",
    "    def __exit__(self, exc_type, exc_val, exc_tb):\n",
    "        sys.stdout.close()\n",
    "        sys.stdout = self._original_stdout"
   ]
  },
  {
   "cell_type": "markdown",
   "id": "4defff69",
   "metadata": {},
   "source": [
    "**Using private key to acess the api. To create your own keys : https://pole-emploi.io/inscription.**"
   ]
  },
  {
   "cell_type": "code",
   "execution_count": 4,
   "id": "c2457dd7",
   "metadata": {},
   "outputs": [],
   "source": [
    "with open('cles_api.txt') as f:\n",
    "    lines = f.readlines()\n",
    "    cles_api = { \"client_id\" : lines[0][:-1], \"client_secret\" : lines[1]}\n"
   ]
  },
  {
   "cell_type": "code",
   "execution_count": 5,
   "id": "7a68fddf",
   "metadata": {},
   "outputs": [
    {
     "data": {
      "text/plain": [
       "{'client_id': 'PAR_classifieurcoderome_e939f0b73f15ab1364fd65c4e2e063a35a8c904ba0d242df6e0606928ce8cde9',\n",
       " 'client_secret': '3e3582e7cd04a4bc733f9f3a984e701f2b13d3f8e023e7c172eca0fa0a887de3'}"
      ]
     },
     "execution_count": 5,
     "metadata": {},
     "output_type": "execute_result"
    }
   ],
   "source": [
    "cles_api"
   ]
  },
  {
   "cell_type": "code",
   "execution_count": 6,
   "id": "3e7eee7d",
   "metadata": {},
   "outputs": [],
   "source": [
    "from offres_emploi import Api\n",
    "api = Api(client_id= cles_api['client_id'], \n",
    "             client_secret= cles_api['client_secret'])"
   ]
  },
  {
   "cell_type": "markdown",
   "id": "e4c56c02",
   "metadata": {},
   "source": [
    "## Getting started with the api"
   ]
  },
  {
   "cell_type": "code",
   "execution_count": 7,
   "id": "724fa007",
   "metadata": {},
   "outputs": [
    {
     "name": "stdout",
     "output_type": "stream",
     "text": [
      "Making request with params {'codeROME': 'A1101'}\n",
      "Token has not been requested yet. Requesting token\n",
      "Now requesting token\n"
     ]
    },
    {
     "data": {
      "text/html": [
       "<div>\n",
       "<style scoped>\n",
       "    .dataframe tbody tr th:only-of-type {\n",
       "        vertical-align: middle;\n",
       "    }\n",
       "\n",
       "    .dataframe tbody tr th {\n",
       "        vertical-align: top;\n",
       "    }\n",
       "\n",
       "    .dataframe thead th {\n",
       "        text-align: right;\n",
       "    }\n",
       "</style>\n",
       "<table border=\"1\" class=\"dataframe\">\n",
       "  <thead>\n",
       "    <tr style=\"text-align: right;\">\n",
       "      <th></th>\n",
       "      <th>id</th>\n",
       "      <th>intitule</th>\n",
       "      <th>description</th>\n",
       "      <th>dateCreation</th>\n",
       "      <th>dateActualisation</th>\n",
       "      <th>lieuTravail</th>\n",
       "      <th>romeCode</th>\n",
       "      <th>romeLibelle</th>\n",
       "      <th>appellationlibelle</th>\n",
       "      <th>entreprise</th>\n",
       "      <th>...</th>\n",
       "      <th>qualificationLibelle</th>\n",
       "      <th>secteurActivite</th>\n",
       "      <th>secteurActiviteLibelle</th>\n",
       "      <th>origineOffre</th>\n",
       "      <th>qualitesProfessionnelles</th>\n",
       "      <th>offresManqueCandidats</th>\n",
       "      <th>experienceCommentaire</th>\n",
       "      <th>permis</th>\n",
       "      <th>complementExercice</th>\n",
       "      <th>formations</th>\n",
       "    </tr>\n",
       "  </thead>\n",
       "  <tbody>\n",
       "    <tr>\n",
       "      <th>0</th>\n",
       "      <td>130YVCS</td>\n",
       "      <td>Tractoriste agricole</td>\n",
       "      <td>Au sein d'une exploitation agricole, vous effe...</td>\n",
       "      <td>2022-04-01T16:28:45.000Z</td>\n",
       "      <td>2022-04-01T16:28:45.000Z</td>\n",
       "      <td>{'libelle': '30 - GENERAC', 'latitude': 43.735...</td>\n",
       "      <td>A1101</td>\n",
       "      <td>Conduite d'engins agricoles et forestiers</td>\n",
       "      <td>Tractoriste agricole</td>\n",
       "      <td>{'entrepriseAdaptee': False}</td>\n",
       "      <td>...</td>\n",
       "      <td>Ouvrier qualifié (P1,P2)</td>\n",
       "      <td>01</td>\n",
       "      <td>Culture de la vigne</td>\n",
       "      <td>{'origine': '1', 'urlOrigine': 'https://candid...</td>\n",
       "      <td>NaN</td>\n",
       "      <td>NaN</td>\n",
       "      <td>NaN</td>\n",
       "      <td>NaN</td>\n",
       "      <td>NaN</td>\n",
       "      <td>NaN</td>\n",
       "    </tr>\n",
       "    <tr>\n",
       "      <th>1</th>\n",
       "      <td>130YKZD</td>\n",
       "      <td>Tractoriste agricole (H/F)</td>\n",
       "      <td>La SCEA Domaine de Cransac recrute 1 Tractoris...</td>\n",
       "      <td>2022-04-01T14:33:38.000Z</td>\n",
       "      <td>2022-04-01T14:35:44.000Z</td>\n",
       "      <td>{'libelle': '31 - FRONTON', 'latitude': 43.854...</td>\n",
       "      <td>A1101</td>\n",
       "      <td>Conduite d'engins agricoles et forestiers</td>\n",
       "      <td>Tractoriste agricole</td>\n",
       "      <td>{'nom': ' DOMAINE DE CRANSAC', 'entrepriseAdap...</td>\n",
       "      <td>...</td>\n",
       "      <td>Ouvrier qualifié (P1,P2)</td>\n",
       "      <td>01</td>\n",
       "      <td>Culture de la vigne</td>\n",
       "      <td>{'origine': '1', 'urlOrigine': 'https://candid...</td>\n",
       "      <td>[{'libelle': 'Capacité d'adaptation', 'descrip...</td>\n",
       "      <td>False</td>\n",
       "      <td>NaN</td>\n",
       "      <td>NaN</td>\n",
       "      <td>NaN</td>\n",
       "      <td>NaN</td>\n",
       "    </tr>\n",
       "  </tbody>\n",
       "</table>\n",
       "<p>2 rows × 35 columns</p>\n",
       "</div>"
      ],
      "text/plain": [
       "        id                    intitule  \\\n",
       "0  130YVCS        Tractoriste agricole   \n",
       "1  130YKZD  Tractoriste agricole (H/F)   \n",
       "\n",
       "                                         description  \\\n",
       "0  Au sein d'une exploitation agricole, vous effe...   \n",
       "1  La SCEA Domaine de Cransac recrute 1 Tractoris...   \n",
       "\n",
       "               dateCreation         dateActualisation  \\\n",
       "0  2022-04-01T16:28:45.000Z  2022-04-01T16:28:45.000Z   \n",
       "1  2022-04-01T14:33:38.000Z  2022-04-01T14:35:44.000Z   \n",
       "\n",
       "                                         lieuTravail romeCode  \\\n",
       "0  {'libelle': '30 - GENERAC', 'latitude': 43.735...    A1101   \n",
       "1  {'libelle': '31 - FRONTON', 'latitude': 43.854...    A1101   \n",
       "\n",
       "                                 romeLibelle    appellationlibelle  \\\n",
       "0  Conduite d'engins agricoles et forestiers  Tractoriste agricole   \n",
       "1  Conduite d'engins agricoles et forestiers  Tractoriste agricole   \n",
       "\n",
       "                                          entreprise  ...  \\\n",
       "0                       {'entrepriseAdaptee': False}  ...   \n",
       "1  {'nom': ' DOMAINE DE CRANSAC', 'entrepriseAdap...  ...   \n",
       "\n",
       "       qualificationLibelle secteurActivite secteurActiviteLibelle  \\\n",
       "0  Ouvrier qualifié (P1,P2)              01    Culture de la vigne   \n",
       "1  Ouvrier qualifié (P1,P2)              01    Culture de la vigne   \n",
       "\n",
       "                                        origineOffre  \\\n",
       "0  {'origine': '1', 'urlOrigine': 'https://candid...   \n",
       "1  {'origine': '1', 'urlOrigine': 'https://candid...   \n",
       "\n",
       "                            qualitesProfessionnelles offresManqueCandidats  \\\n",
       "0                                                NaN                   NaN   \n",
       "1  [{'libelle': 'Capacité d'adaptation', 'descrip...                 False   \n",
       "\n",
       "  experienceCommentaire permis complementExercice  formations  \n",
       "0                   NaN    NaN                NaN         NaN  \n",
       "1                   NaN    NaN                NaN         NaN  \n",
       "\n",
       "[2 rows x 35 columns]"
      ]
     },
     "execution_count": 7,
     "metadata": {},
     "output_type": "execute_result"
    }
   ],
   "source": [
    "test_Chauffeur  = api.search(params = {'codeROME' : 'A1101'})\n",
    "\n",
    "filters = test_Chauffeur['filtresPossibles']\n",
    "results =  test_Chauffeur['resultats']\n",
    "content_range = test_Chauffeur['Content-Range']\n",
    "n_offers = content_range['max_results']\n",
    "\n",
    "results_df = pd.DataFrame(results)\n",
    "\n",
    "results_df.head(2)"
   ]
  },
  {
   "cell_type": "code",
   "execution_count": 8,
   "id": "2ea6b4d3",
   "metadata": {},
   "outputs": [
    {
     "data": {
      "text/plain": [
       "'850'"
      ]
     },
     "execution_count": 8,
     "metadata": {},
     "output_type": "execute_result"
    }
   ],
   "source": [
    "n_offers"
   ]
  },
  {
   "cell_type": "code",
   "execution_count": 9,
   "id": "e43d37b9",
   "metadata": {},
   "outputs": [
    {
     "data": {
      "text/html": [
       "<div>\n",
       "<style scoped>\n",
       "    .dataframe tbody tr th:only-of-type {\n",
       "        vertical-align: middle;\n",
       "    }\n",
       "\n",
       "    .dataframe tbody tr th {\n",
       "        vertical-align: top;\n",
       "    }\n",
       "\n",
       "    .dataframe thead th {\n",
       "        text-align: right;\n",
       "    }\n",
       "</style>\n",
       "<table border=\"1\" class=\"dataframe\">\n",
       "  <thead>\n",
       "    <tr style=\"text-align: right;\">\n",
       "      <th></th>\n",
       "      <th>description</th>\n",
       "      <th>romeCode</th>\n",
       "    </tr>\n",
       "  </thead>\n",
       "  <tbody>\n",
       "    <tr>\n",
       "      <th>0</th>\n",
       "      <td>Au sein d'une exploitation agricole, vous effe...</td>\n",
       "      <td>A1101</td>\n",
       "    </tr>\n",
       "    <tr>\n",
       "      <th>1</th>\n",
       "      <td>La SCEA Domaine de Cransac recrute 1 Tractoris...</td>\n",
       "      <td>A1101</td>\n",
       "    </tr>\n",
       "    <tr>\n",
       "      <th>2</th>\n",
       "      <td>Nous cherchons un tractoriste confirmé pour di...</td>\n",
       "      <td>A1101</td>\n",
       "    </tr>\n",
       "    <tr>\n",
       "      <th>3</th>\n",
       "      <td>Vous réalisez des travaux de chargement épande...</td>\n",
       "      <td>A1101</td>\n",
       "    </tr>\n",
       "    <tr>\n",
       "      <th>4</th>\n",
       "      <td>Poste en Juillet\\n\\nVous avez une expérience d...</td>\n",
       "      <td>A1101</td>\n",
       "    </tr>\n",
       "    <tr>\n",
       "      <th>...</th>\n",
       "      <td>...</td>\n",
       "      <td>...</td>\n",
       "    </tr>\n",
       "    <tr>\n",
       "      <th>145</th>\n",
       "      <td>Au sein d'une entreprise agroalimentaire, vous...</td>\n",
       "      <td>A1101</td>\n",
       "    </tr>\n",
       "    <tr>\n",
       "      <th>146</th>\n",
       "      <td>L'agence CRIT DOUAI recherche un Agent d'entre...</td>\n",
       "      <td>A1101</td>\n",
       "    </tr>\n",
       "    <tr>\n",
       "      <th>147</th>\n",
       "      <td>Dans le cadre de l'alternance et après une for...</td>\n",
       "      <td>A1101</td>\n",
       "    </tr>\n",
       "    <tr>\n",
       "      <th>148</th>\n",
       "      <td>Aladin.farm by InVivo est une plateforme digit...</td>\n",
       "      <td>A1101</td>\n",
       "    </tr>\n",
       "    <tr>\n",
       "      <th>149</th>\n",
       "      <td>Nous recrutons pour l'un de nos clients, un CA...</td>\n",
       "      <td>A1101</td>\n",
       "    </tr>\n",
       "  </tbody>\n",
       "</table>\n",
       "<p>150 rows × 2 columns</p>\n",
       "</div>"
      ],
      "text/plain": [
       "                                           description romeCode\n",
       "0    Au sein d'une exploitation agricole, vous effe...    A1101\n",
       "1    La SCEA Domaine de Cransac recrute 1 Tractoris...    A1101\n",
       "2    Nous cherchons un tractoriste confirmé pour di...    A1101\n",
       "3    Vous réalisez des travaux de chargement épande...    A1101\n",
       "4    Poste en Juillet\\n\\nVous avez une expérience d...    A1101\n",
       "..                                                 ...      ...\n",
       "145  Au sein d'une entreprise agroalimentaire, vous...    A1101\n",
       "146  L'agence CRIT DOUAI recherche un Agent d'entre...    A1101\n",
       "147  Dans le cadre de l'alternance et après une for...    A1101\n",
       "148  Aladin.farm by InVivo est une plateforme digit...    A1101\n",
       "149  Nous recrutons pour l'un de nos clients, un CA...    A1101\n",
       "\n",
       "[150 rows x 2 columns]"
      ]
     },
     "execution_count": 9,
     "metadata": {},
     "output_type": "execute_result"
    }
   ],
   "source": [
    "results_df[['description', \"romeCode\"]]"
   ]
  },
  {
   "cell_type": "code",
   "execution_count": 10,
   "id": "0b99302c",
   "metadata": {},
   "outputs": [
    {
     "data": {
      "text/plain": [
       "\"Poste en Juillet\\n\\nVous avez une expérience de la conduite de tracteur avec remorque pour le transport de la récolte d'abricots des champs à l'exploitation.\\n\\nVous serez en appui aux équipes lors des récoltes.\\n\\nLe salaire est à débattre en fonction de vos qualifications et de votre expérience. \\n\\nLe poste est non logé, possibilité de camping sur place avec des sanitaires et une cuisine à disposition. Animaux non admis. \\n \""
      ]
     },
     "execution_count": 10,
     "metadata": {},
     "output_type": "execute_result"
    }
   ],
   "source": [
    "results_df['description'][4]"
   ]
  },
  {
   "cell_type": "markdown",
   "id": "6f4eca31",
   "metadata": {},
   "source": [
    "## Creating subcategories for jobs according to the codeRome classification"
   ]
  },
  {
   "cell_type": "code",
   "execution_count": 11,
   "id": "1c1e4047",
   "metadata": {},
   "outputs": [
    {
     "name": "stderr",
     "output_type": "stream",
     "text": [
      "Using custom data configuration oscarfossey--NLP_Pole_emploi-7fcd601cddff1243\n",
      "Reusing dataset csv (C:\\Users\\admin\\.cache\\huggingface\\datasets\\csv\\oscarfossey--NLP_Pole_emploi-7fcd601cddff1243\\0.0.0\\433e0ccc46f9880962cc2b12065189766fbb2bee57a221866138fb9203c83519)\n"
     ]
    },
    {
     "data": {
      "application/vnd.jupyter.widget-view+json": {
       "model_id": "f5d5c0189b534e7484d6738904afeebe",
       "version_major": 2,
       "version_minor": 0
      },
      "text/plain": [
       "  0%|          | 0/1 [00:00<?, ?it/s]"
      ]
     },
     "metadata": {},
     "output_type": "display_data"
    }
   ],
   "source": [
    "dataset_train = load_dataset(\"oscarfossey/NLP_Pole_emploi\", data_files='ROME_ArboPrincipale.csv')"
   ]
  },
  {
   "cell_type": "code",
   "execution_count": 12,
   "id": "059f02bf",
   "metadata": {},
   "outputs": [],
   "source": [
    "df_main =  pd.DataFrame(dataset_train['train'])"
   ]
  },
  {
   "cell_type": "code",
   "execution_count": 13,
   "id": "ff51f814",
   "metadata": {},
   "outputs": [
    {
     "data": {
      "text/html": [
       "<div>\n",
       "<style scoped>\n",
       "    .dataframe tbody tr th:only-of-type {\n",
       "        vertical-align: middle;\n",
       "    }\n",
       "\n",
       "    .dataframe tbody tr th {\n",
       "        vertical-align: top;\n",
       "    }\n",
       "\n",
       "    .dataframe thead th {\n",
       "        text-align: right;\n",
       "    }\n",
       "</style>\n",
       "<table border=\"1\" class=\"dataframe\">\n",
       "  <thead>\n",
       "    <tr style=\"text-align: right;\">\n",
       "      <th></th>\n",
       "      <th></th>\n",
       "      <th>.1</th>\n",
       "      <th>.2</th>\n",
       "      <th>.3</th>\n",
       "      <th>Code OGR</th>\n",
       "    </tr>\n",
       "  </thead>\n",
       "  <tbody>\n",
       "    <tr>\n",
       "      <th>0</th>\n",
       "      <td>A</td>\n",
       "      <td></td>\n",
       "      <td></td>\n",
       "      <td>Agriculture et Pêche, Espaces naturels et Espa...</td>\n",
       "      <td></td>\n",
       "    </tr>\n",
       "    <tr>\n",
       "      <th>1</th>\n",
       "      <td>A</td>\n",
       "      <td>11</td>\n",
       "      <td></td>\n",
       "      <td>Engins agricoles et forestiers</td>\n",
       "      <td></td>\n",
       "    </tr>\n",
       "    <tr>\n",
       "      <th>2</th>\n",
       "      <td>A</td>\n",
       "      <td>11</td>\n",
       "      <td>01</td>\n",
       "      <td>Conduite d'engins agricoles et forestiers</td>\n",
       "      <td></td>\n",
       "    </tr>\n",
       "    <tr>\n",
       "      <th>3</th>\n",
       "      <td>A</td>\n",
       "      <td>11</td>\n",
       "      <td>01</td>\n",
       "      <td>Chauffeur / Chauffeuse de machines agricoles</td>\n",
       "      <td>11987</td>\n",
       "    </tr>\n",
       "    <tr>\n",
       "      <th>4</th>\n",
       "      <td>A</td>\n",
       "      <td>11</td>\n",
       "      <td>01</td>\n",
       "      <td>Conducteur / Conductrice d'abatteuses</td>\n",
       "      <td>12862</td>\n",
       "    </tr>\n",
       "  </tbody>\n",
       "</table>\n",
       "</div>"
      ],
      "text/plain": [
       "      .1  .2                                                 .3 Code OGR\n",
       "0  A          Agriculture et Pêche, Espaces naturels et Espa...         \n",
       "1  A  11                         Engins agricoles et forestiers         \n",
       "2  A  11  01          Conduite d'engins agricoles et forestiers         \n",
       "3  A  11  01       Chauffeur / Chauffeuse de machines agricoles    11987\n",
       "4  A  11  01              Conducteur / Conductrice d'abatteuses    12862"
      ]
     },
     "execution_count": 13,
     "metadata": {},
     "output_type": "execute_result"
    }
   ],
   "source": [
    "df_main.head()"
   ]
  },
  {
   "cell_type": "markdown",
   "id": "a0ec491b",
   "metadata": {},
   "source": [
    "**Renaming columns**"
   ]
  },
  {
   "cell_type": "code",
   "execution_count": 14,
   "id": "b38f6010",
   "metadata": {},
   "outputs": [],
   "source": [
    "df_main.rename(columns = {' ' : \"categorie\" , ' .1' : \"sub_categorie\", ' .2' : \"sub_sub_categorie\", ' .3' : \"name\" }, inplace=True)\n",
    "\n",
    "df_main[\"code_rome\"] = df_main[\"categorie\"] + df_main[\"sub_categorie\"] + df_main[\"sub_sub_categorie\"]"
   ]
  },
  {
   "cell_type": "markdown",
   "id": "441af666",
   "metadata": {},
   "source": [
    "**Keeping the categorie name in a dataset**"
   ]
  },
  {
   "cell_type": "code",
   "execution_count": 15,
   "id": "53f02a6d",
   "metadata": {},
   "outputs": [
    {
     "name": "stderr",
     "output_type": "stream",
     "text": [
      "D:\\Logiciel\\Anaconda\\lib\\site-packages\\pandas\\core\\frame.py:4308: SettingWithCopyWarning: \n",
      "A value is trying to be set on a copy of a slice from a DataFrame\n",
      "\n",
      "See the caveats in the documentation: https://pandas.pydata.org/pandas-docs/stable/user_guide/indexing.html#returning-a-view-versus-a-copy\n",
      "  return super().drop(\n"
     ]
    }
   ],
   "source": [
    "df_categorie_name = df_main.loc[df_main[\"sub_categorie\"] ==  ' ']\n",
    "df_sub_categorie_name = df_main.loc[(df_main[\"sub_categorie\"] !=  ' ') & (df_main[\"sub_sub_categorie\"] ==  ' ')]\n",
    "df_sub_sub_categorie_name = df_main.loc[\n",
    "                                        (df_main[\"sub_categorie\"] !=  ' ') \n",
    "                                        & (df_main[\"sub_sub_categorie\"] !=  ' ')\n",
    "                                        & (df_main[\"Code OGR\"] ==  ' ')]\n",
    "\n",
    "df_categorie_name.drop([\"Code OGR\"], axis = 1, inplace = True)\n",
    "df_sub_categorie_name.drop([\"Code OGR\"], axis = 1, inplace = True)\n",
    "df_sub_sub_categorie_name.drop([\"Code OGR\"], axis = 1, inplace = True)"
   ]
  },
  {
   "cell_type": "markdown",
   "id": "f7177ff0",
   "metadata": {},
   "source": [
    "**Displaying the name of the 14 main categories.**"
   ]
  },
  {
   "cell_type": "code",
   "execution_count": 16,
   "id": "ca67f4b0",
   "metadata": {},
   "outputs": [
    {
     "name": "stdout",
     "output_type": "stream",
     "text": [
      "Number of categorie :  14\n",
      "Number of sub_categorie :  110\n",
      "Number of sub_sub_categorie :  532\n"
     ]
    },
    {
     "data": {
      "text/html": [
       "<div>\n",
       "<style scoped>\n",
       "    .dataframe tbody tr th:only-of-type {\n",
       "        vertical-align: middle;\n",
       "    }\n",
       "\n",
       "    .dataframe tbody tr th {\n",
       "        vertical-align: top;\n",
       "    }\n",
       "\n",
       "    .dataframe thead th {\n",
       "        text-align: right;\n",
       "    }\n",
       "</style>\n",
       "<table border=\"1\" class=\"dataframe\">\n",
       "  <thead>\n",
       "    <tr style=\"text-align: right;\">\n",
       "      <th></th>\n",
       "      <th>categorie</th>\n",
       "      <th>sub_categorie</th>\n",
       "      <th>sub_sub_categorie</th>\n",
       "      <th>name</th>\n",
       "      <th>code_rome</th>\n",
       "    </tr>\n",
       "  </thead>\n",
       "  <tbody>\n",
       "    <tr>\n",
       "      <th>0</th>\n",
       "      <td>A</td>\n",
       "      <td></td>\n",
       "      <td></td>\n",
       "      <td>Agriculture et Pêche, Espaces naturels et Espa...</td>\n",
       "      <td>A</td>\n",
       "    </tr>\n",
       "    <tr>\n",
       "      <th>626</th>\n",
       "      <td>B</td>\n",
       "      <td></td>\n",
       "      <td></td>\n",
       "      <td>Arts et Façonnage d'ouvrages d'art</td>\n",
       "      <td>B</td>\n",
       "    </tr>\n",
       "    <tr>\n",
       "      <th>1001</th>\n",
       "      <td>C</td>\n",
       "      <td></td>\n",
       "      <td></td>\n",
       "      <td>Banque, Assurance, Immobilier</td>\n",
       "      <td>C</td>\n",
       "    </tr>\n",
       "    <tr>\n",
       "      <th>1396</th>\n",
       "      <td>D</td>\n",
       "      <td></td>\n",
       "      <td></td>\n",
       "      <td>Commerce, Vente et Grande distribution</td>\n",
       "      <td>D</td>\n",
       "    </tr>\n",
       "    <tr>\n",
       "      <th>2108</th>\n",
       "      <td>E</td>\n",
       "      <td></td>\n",
       "      <td></td>\n",
       "      <td>Communication, Média et Multimédia</td>\n",
       "      <td>E</td>\n",
       "    </tr>\n",
       "    <tr>\n",
       "      <th>2738</th>\n",
       "      <td>F</td>\n",
       "      <td></td>\n",
       "      <td></td>\n",
       "      <td>Construction, Bâtiment et Travaux publics</td>\n",
       "      <td>F</td>\n",
       "    </tr>\n",
       "    <tr>\n",
       "      <th>3571</th>\n",
       "      <td>G</td>\n",
       "      <td></td>\n",
       "      <td></td>\n",
       "      <td>Hôtellerie-Restauration, Tourisme, Loisirs et ...</td>\n",
       "      <td>G</td>\n",
       "    </tr>\n",
       "    <tr>\n",
       "      <th>4156</th>\n",
       "      <td>H</td>\n",
       "      <td></td>\n",
       "      <td></td>\n",
       "      <td>Industrie</td>\n",
       "      <td>H</td>\n",
       "    </tr>\n",
       "    <tr>\n",
       "      <th>6954</th>\n",
       "      <td>I</td>\n",
       "      <td></td>\n",
       "      <td></td>\n",
       "      <td>Installation et Maintenance</td>\n",
       "      <td>I</td>\n",
       "    </tr>\n",
       "    <tr>\n",
       "      <th>7699</th>\n",
       "      <td>J</td>\n",
       "      <td></td>\n",
       "      <td></td>\n",
       "      <td>Santé</td>\n",
       "      <td>J</td>\n",
       "    </tr>\n",
       "    <tr>\n",
       "      <th>7993</th>\n",
       "      <td>K</td>\n",
       "      <td></td>\n",
       "      <td></td>\n",
       "      <td>Services à la personne et à la collectivité</td>\n",
       "      <td>K</td>\n",
       "    </tr>\n",
       "    <tr>\n",
       "      <th>9637</th>\n",
       "      <td>L</td>\n",
       "      <td></td>\n",
       "      <td></td>\n",
       "      <td>Spectacle</td>\n",
       "      <td>L</td>\n",
       "    </tr>\n",
       "    <tr>\n",
       "      <th>10128</th>\n",
       "      <td>M</td>\n",
       "      <td></td>\n",
       "      <td></td>\n",
       "      <td>Support à l'entreprise</td>\n",
       "      <td>M</td>\n",
       "    </tr>\n",
       "    <tr>\n",
       "      <th>11119</th>\n",
       "      <td>N</td>\n",
       "      <td></td>\n",
       "      <td></td>\n",
       "      <td>Transport et Logistique</td>\n",
       "      <td>N</td>\n",
       "    </tr>\n",
       "  </tbody>\n",
       "</table>\n",
       "</div>"
      ],
      "text/plain": [
       "      categorie sub_categorie sub_sub_categorie  \\\n",
       "0             A                                   \n",
       "626           B                                   \n",
       "1001          C                                   \n",
       "1396          D                                   \n",
       "2108          E                                   \n",
       "2738          F                                   \n",
       "3571          G                                   \n",
       "4156          H                                   \n",
       "6954          I                                   \n",
       "7699          J                                   \n",
       "7993          K                                   \n",
       "9637          L                                   \n",
       "10128         M                                   \n",
       "11119         N                                   \n",
       "\n",
       "                                                    name code_rome  \n",
       "0      Agriculture et Pêche, Espaces naturels et Espa...       A    \n",
       "626                   Arts et Façonnage d'ouvrages d'art       B    \n",
       "1001                       Banque, Assurance, Immobilier       C    \n",
       "1396              Commerce, Vente et Grande distribution       D    \n",
       "2108                  Communication, Média et Multimédia       E    \n",
       "2738           Construction, Bâtiment et Travaux publics       F    \n",
       "3571   Hôtellerie-Restauration, Tourisme, Loisirs et ...       G    \n",
       "4156                                           Industrie       H    \n",
       "6954                         Installation et Maintenance       I    \n",
       "7699                                               Santé       J    \n",
       "7993         Services à la personne et à la collectivité       K    \n",
       "9637                                           Spectacle       L    \n",
       "10128                             Support à l'entreprise       M    \n",
       "11119                            Transport et Logistique       N    "
      ]
     },
     "execution_count": 16,
     "metadata": {},
     "output_type": "execute_result"
    }
   ],
   "source": [
    "print(\"Number of categorie : \", df_categorie_name.count()[0])\n",
    "print(\"Number of sub_categorie : \", df_sub_categorie_name.count()[0])\n",
    "print(\"Number of sub_sub_categorie : \", df_sub_sub_categorie_name.count()[0])\n",
    "\n",
    "df_categorie_name"
   ]
  },
  {
   "cell_type": "markdown",
   "id": "18e128cb",
   "metadata": {},
   "source": [
    "## Creation of the datasets"
   ]
  },
  {
   "cell_type": "code",
   "execution_count": 17,
   "id": "e807cad4",
   "metadata": {},
   "outputs": [
    {
     "data": {
      "text/html": [
       "<div>\n",
       "<style scoped>\n",
       "    .dataframe tbody tr th:only-of-type {\n",
       "        vertical-align: middle;\n",
       "    }\n",
       "\n",
       "    .dataframe tbody tr th {\n",
       "        vertical-align: top;\n",
       "    }\n",
       "\n",
       "    .dataframe thead th {\n",
       "        text-align: right;\n",
       "    }\n",
       "</style>\n",
       "<table border=\"1\" class=\"dataframe\">\n",
       "  <thead>\n",
       "    <tr style=\"text-align: right;\">\n",
       "      <th></th>\n",
       "      <th>textual description</th>\n",
       "      <th>code_rome</th>\n",
       "    </tr>\n",
       "  </thead>\n",
       "  <tbody>\n",
       "  </tbody>\n",
       "</table>\n",
       "</div>"
      ],
      "text/plain": [
       "Empty DataFrame\n",
       "Columns: [textual description, code_rome]\n",
       "Index: []"
      ]
     },
     "execution_count": 17,
     "metadata": {},
     "output_type": "execute_result"
    }
   ],
   "source": [
    "columns = [\"textual description\", \"code_rome\"]\n",
    "df_text  = pd.DataFrame(columns = columns)\n",
    "\n",
    "df_text.head()"
   ]
  },
  {
   "cell_type": "markdown",
   "id": "6a9f1426",
   "metadata": {},
   "source": [
    "**Dowloadind the data straight from the api**\n",
    "\n",
    "*We will display an error message when a sub_sub_categorie do not have any job offers associated on pôle emploi.*"
   ]
  },
  {
   "cell_type": "code",
   "execution_count": 18,
   "id": "7beeb44e",
   "metadata": {},
   "outputs": [
    {
     "data": {
      "application/vnd.jupyter.widget-view+json": {
       "model_id": "d13cc74f51be4e09bde760ac39394c1b",
       "version_major": 2,
       "version_minor": 0
      },
      "text/plain": [
       "  0%|          | 0/532 [00:00<?, ?it/s]"
      ]
     },
     "metadata": {},
     "output_type": "display_data"
    },
    {
     "name": "stdout",
     "output_type": "stream",
     "text": [
      "Error number for missing Job description:  1\n",
      "Error number for missing Job description:  2\n",
      "Error number for missing Job description:  3\n",
      "Error number for missing Job description:  4\n"
     ]
    }
   ],
   "source": [
    "error_count = 0\n",
    "for code_rome in tqdm(df_sub_sub_categorie_name.code_rome):\n",
    "    try:\n",
    "        with HiddenPrints():\n",
    "            request  = api.search(params = {'codeROME' : code_rome});\n",
    "        if len(request['resultats']) > 1:\n",
    "            df = pd.DataFrame(request['resultats'])[['description', \"romeCode\"]]\n",
    "            df.rename(columns = {'description' : \"textual description\",  'romeCode' : \"code_rome\" }, inplace=True)\n",
    "            df_text = pd.concat([df_text, df])\n",
    "    except:\n",
    "        print(\"Error number for missing Job description: \", error_count + 1)\n",
    "        error_count +=1\n",
    "    time.sleep(0.4)"
   ]
  },
  {
   "cell_type": "code",
   "execution_count": 19,
   "id": "47b2ecc8",
   "metadata": {},
   "outputs": [
    {
     "data": {
      "text/html": [
       "<div>\n",
       "<style scoped>\n",
       "    .dataframe tbody tr th:only-of-type {\n",
       "        vertical-align: middle;\n",
       "    }\n",
       "\n",
       "    .dataframe tbody tr th {\n",
       "        vertical-align: top;\n",
       "    }\n",
       "\n",
       "    .dataframe thead th {\n",
       "        text-align: right;\n",
       "    }\n",
       "</style>\n",
       "<table border=\"1\" class=\"dataframe\">\n",
       "  <thead>\n",
       "    <tr style=\"text-align: right;\">\n",
       "      <th></th>\n",
       "      <th>textual description</th>\n",
       "      <th>code_rome</th>\n",
       "    </tr>\n",
       "  </thead>\n",
       "  <tbody>\n",
       "    <tr>\n",
       "      <th>0</th>\n",
       "      <td>Au sein d'une exploitation agricole, vous effe...</td>\n",
       "      <td>A1101</td>\n",
       "    </tr>\n",
       "    <tr>\n",
       "      <th>1</th>\n",
       "      <td>La SCEA Domaine de Cransac recrute 1 Tractoris...</td>\n",
       "      <td>A1101</td>\n",
       "    </tr>\n",
       "    <tr>\n",
       "      <th>2</th>\n",
       "      <td>Nous cherchons un tractoriste confirmé pour di...</td>\n",
       "      <td>A1101</td>\n",
       "    </tr>\n",
       "  </tbody>\n",
       "</table>\n",
       "</div>"
      ],
      "text/plain": [
       "                                 textual description code_rome\n",
       "0  Au sein d'une exploitation agricole, vous effe...     A1101\n",
       "1  La SCEA Domaine de Cransac recrute 1 Tractoris...     A1101\n",
       "2  Nous cherchons un tractoriste confirmé pour di...     A1101"
      ]
     },
     "execution_count": 19,
     "metadata": {},
     "output_type": "execute_result"
    }
   ],
   "source": [
    "df_text.head(3)"
   ]
  },
  {
   "cell_type": "markdown",
   "id": "1114f57a",
   "metadata": {},
   "source": [
    "**Merging categories and textual description**"
   ]
  },
  {
   "cell_type": "code",
   "execution_count": 20,
   "id": "4258d92a",
   "metadata": {},
   "outputs": [
    {
     "data": {
      "text/html": [
       "<div>\n",
       "<style scoped>\n",
       "    .dataframe tbody tr th:only-of-type {\n",
       "        vertical-align: middle;\n",
       "    }\n",
       "\n",
       "    .dataframe tbody tr th {\n",
       "        vertical-align: top;\n",
       "    }\n",
       "\n",
       "    .dataframe thead th {\n",
       "        text-align: right;\n",
       "    }\n",
       "</style>\n",
       "<table border=\"1\" class=\"dataframe\">\n",
       "  <thead>\n",
       "    <tr style=\"text-align: right;\">\n",
       "      <th></th>\n",
       "      <th>textual description</th>\n",
       "      <th>code_rome</th>\n",
       "      <th>categorie</th>\n",
       "      <th>sub_categorie</th>\n",
       "      <th>sub_sub_categorie</th>\n",
       "      <th>name</th>\n",
       "    </tr>\n",
       "  </thead>\n",
       "  <tbody>\n",
       "    <tr>\n",
       "      <th>0</th>\n",
       "      <td>Au sein d'une exploitation agricole, vous effe...</td>\n",
       "      <td>A1101</td>\n",
       "      <td>A</td>\n",
       "      <td>11</td>\n",
       "      <td>01</td>\n",
       "      <td>Conduite d'engins agricoles et forestiers</td>\n",
       "    </tr>\n",
       "    <tr>\n",
       "      <th>1</th>\n",
       "      <td>La SCEA Domaine de Cransac recrute 1 Tractoris...</td>\n",
       "      <td>A1101</td>\n",
       "      <td>A</td>\n",
       "      <td>11</td>\n",
       "      <td>01</td>\n",
       "      <td>Conduite d'engins agricoles et forestiers</td>\n",
       "    </tr>\n",
       "    <tr>\n",
       "      <th>2</th>\n",
       "      <td>Nous cherchons un tractoriste confirmé pour di...</td>\n",
       "      <td>A1101</td>\n",
       "      <td>A</td>\n",
       "      <td>11</td>\n",
       "      <td>01</td>\n",
       "      <td>Conduite d'engins agricoles et forestiers</td>\n",
       "    </tr>\n",
       "  </tbody>\n",
       "</table>\n",
       "</div>"
      ],
      "text/plain": [
       "                                 textual description code_rome categorie  \\\n",
       "0  Au sein d'une exploitation agricole, vous effe...     A1101         A   \n",
       "1  La SCEA Domaine de Cransac recrute 1 Tractoris...     A1101         A   \n",
       "2  Nous cherchons un tractoriste confirmé pour di...     A1101         A   \n",
       "\n",
       "  sub_categorie sub_sub_categorie                                       name  \n",
       "0            11                01  Conduite d'engins agricoles et forestiers  \n",
       "1            11                01  Conduite d'engins agricoles et forestiers  \n",
       "2            11                01  Conduite d'engins agricoles et forestiers  "
      ]
     },
     "execution_count": 20,
     "metadata": {},
     "output_type": "execute_result"
    }
   ],
   "source": [
    "dataset = df_text.merge(df_sub_sub_categorie_name, how='left', on='code_rome')\n",
    "\n",
    "dataset.head(3)"
   ]
  },
  {
   "cell_type": "markdown",
   "id": "1a9a4538",
   "metadata": {},
   "source": [
    "**Deleting empty description**"
   ]
  },
  {
   "cell_type": "code",
   "execution_count": 21,
   "id": "b97cac16",
   "metadata": {},
   "outputs": [
    {
     "data": {
      "text/plain": [
       "textual description    64230\n",
       "code_rome              64239\n",
       "categorie              64239\n",
       "sub_categorie          64239\n",
       "sub_sub_categorie      64239\n",
       "name                   64239\n",
       "dtype: int64"
      ]
     },
     "execution_count": 21,
     "metadata": {},
     "output_type": "execute_result"
    }
   ],
   "source": [
    "dataset.count()"
   ]
  },
  {
   "cell_type": "code",
   "execution_count": 22,
   "id": "d002c049",
   "metadata": {},
   "outputs": [
    {
     "data": {
      "text/plain": [
       "textual description    64230\n",
       "code_rome              64230\n",
       "categorie              64230\n",
       "sub_categorie          64230\n",
       "sub_sub_categorie      64230\n",
       "name                   64230\n",
       "dtype: int64"
      ]
     },
     "execution_count": 22,
     "metadata": {},
     "output_type": "execute_result"
    }
   ],
   "source": [
    "dataset.dropna(subset=['textual description'], inplace = True)\n",
    "\n",
    "dataset.count()"
   ]
  },
  {
   "cell_type": "markdown",
   "id": "7dcea74b",
   "metadata": {},
   "source": [
    "**Saving useful datasets in a local folder (optionnal because disponible at https://huggingface.co/datasets/oscarfossey/NLP_Pole_emploi)**"
   ]
  },
  {
   "cell_type": "code",
   "execution_count": 23,
   "id": "40e482d5",
   "metadata": {},
   "outputs": [],
   "source": [
    "#dataset.to_csv('Textual_description.csv',index=False)"
   ]
  },
  {
   "cell_type": "code",
   "execution_count": 24,
   "id": "c78e5990",
   "metadata": {},
   "outputs": [],
   "source": [
    "#df_categorie_name.to_csv('tags_name.csv',index=False)\n",
    "#df_sub_categorie_name.to_csv('sub_tags_name.csv',index=False)\n",
    "#df_sub_sub_categorie_name.to_csv('sub_sub_tags_name.csv',index=False)"
   ]
  }
 ],
 "metadata": {
  "kernelspec": {
   "display_name": "Python 3",
   "language": "python",
   "name": "python3"
  },
  "language_info": {
   "codemirror_mode": {
    "name": "ipython",
    "version": 3
   },
   "file_extension": ".py",
   "mimetype": "text/x-python",
   "name": "python",
   "nbconvert_exporter": "python",
   "pygments_lexer": "ipython3",
   "version": "3.8.8"
  }
 },
 "nbformat": 4,
 "nbformat_minor": 5
}
